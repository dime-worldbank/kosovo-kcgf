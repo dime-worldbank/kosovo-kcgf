{
 "cells": [
  {
   "cell_type": "code",
   "execution_count": 1,
   "metadata": {},
   "outputs": [
    {
     "name": "stderr",
     "output_type": "stream",
     "text": [
      "\n",
      "Bad key \"text.kerning_factor\" on line 4 in\n",
      "/Users/simonneumeyer/opt/anaconda3/lib/python3.7/site-packages/matplotlib/mpl-data/stylelib/_classic_test_patch.mplstyle.\n",
      "You probably need to get an updated matplotlibrc file from\n",
      "https://github.com/matplotlib/matplotlib/blob/v3.1.3/matplotlibrc.template\n",
      "or from the matplotlib source distribution\n"
     ]
    }
   ],
   "source": [
    "import numpy as np\n",
    "import pandas as pd\n",
    "pd.options.display.max_rows = 999\n",
    "pd.options.display.max_columns = 200\n",
    "import datetime\n",
    "import pyarrow\n",
    "import matplotlib.pyplot as plt\n",
    "import seaborn as sns\n",
    "import statsmodels.api as sm\n",
    "\n",
    "from linearmodels.panel import PanelOLS\n",
    "\n",
    "old_data_folder = '/Users/simonneumeyer/Dropbox/DO-FILES/data/'"
   ]
  },
  {
   "cell_type": "markdown",
   "metadata": {},
   "source": [
    "## Load data"
   ]
  },
  {
   "cell_type": "code",
   "execution_count": 2,
   "metadata": {},
   "outputs": [],
   "source": [
    "df_master = pd.read_parquet('../../data/output/firm_year_level.pq', engine='pyarrow')"
   ]
  },
  {
   "cell_type": "code",
   "execution_count": 3,
   "metadata": {},
   "outputs": [],
   "source": [
    "#df_master[[x for x in df_master.columns if 'exit' in x]]"
   ]
  },
  {
   "cell_type": "code",
   "execution_count": 4,
   "metadata": {},
   "outputs": [],
   "source": [
    "#df_master.columns.tolist()"
   ]
  },
  {
   "cell_type": "markdown",
   "metadata": {},
   "source": [
    "## Panel regression"
   ]
  },
  {
   "cell_type": "code",
   "execution_count": 5,
   "metadata": {},
   "outputs": [
    {
     "name": "stdout",
     "output_type": "stream",
     "text": [
      "                          PanelOLS Estimation Summary                           \n",
      "================================================================================\n",
      "Dep. Variable:          participation   R-squared:                        0.0150\n",
      "Estimator:                   PanelOLS   R-squared (Between):              0.0546\n",
      "No. Observations:              176267   R-squared (Within):               0.0226\n",
      "Date:                Thu, May 05 2022   R-squared (Overall):              0.0252\n",
      "Time:                        14:17:35   Log-likelihood                  -9.3e+04\n",
      "Cov. Estimator:                Robust                                           \n",
      "                                        F-statistic:                      534.09\n",
      "Entities:                         315   P-value                           0.0000\n",
      "Avg Obs:                       559.58   Distribution:                F(5,175939)\n",
      "Min Obs:                       1.0000                                           \n",
      "Max Obs:                    1.295e+04   F-statistic (robust):             415.20\n",
      "                                        P-value                           0.0000\n",
      "Time periods:                       9   Distribution:                F(5,175939)\n",
      "Avg Obs:                    1.959e+04                                           \n",
      "Min Obs:                    1.476e+04                                           \n",
      "Max Obs:                    2.328e+04                                           \n",
      "                                                                                \n",
      "                                       Parameter Estimates                                       \n",
      "=================================================================================================\n",
      "                               Parameter  Std. Err.     T-stat    P-value    Lower CI    Upper CI\n",
      "-------------------------------------------------------------------------------------------------\n",
      "Serbian-majority municipality    -0.0344     0.0092    -3.7394     0.0002     -0.0524     -0.0163\n",
      "Exporting firm                    0.1828     0.0064     28.730     0.0000      0.1703      0.1953\n",
      "age_bis_bis                       0.0078     0.0003     30.772     0.0000      0.0073      0.0083\n",
      "Number of employees               0.0003  4.676e-05     5.9982     0.0000      0.0002      0.0004\n",
      "Market concentration             -0.0191     0.0152    -1.2622     0.2069     -0.0489      0.0106\n",
      "const                             0.1929     0.0021     90.305     0.0000      0.1887      0.1971\n",
      "=================================================================================================\n",
      "\n",
      "F-test for Poolability: 45.450\n",
      "P-value: 0.0000\n",
      "Distribution: F(322,175939)\n",
      "\n",
      "Included effects: Entity, Time\n"
     ]
    }
   ],
   "source": [
    "indep_vars = ['Serbian-majority municipality', 'Exporting firm', 'age_bis_bis', 'Number of employees', 'Market concentration']\n",
    "panel_vars = ['isic_4d', 'period']\n",
    "\n",
    "df_master_not_na = df_master[indep_vars + panel_vars + ['participation']].dropna()\n",
    "\n",
    "df_master_not_na = df_master_not_na.set_index(panel_vars).sort_index()\n",
    "\n",
    "X = sm.add_constant(df_master_not_na[indep_vars], prepend=False)\n",
    "y = df_master_not_na.participation\n",
    "\n",
    "mod = PanelOLS(y, X, \n",
    "               entity_effects=True, \n",
    "               time_effects=True,\n",
    "               drop_absorbed=True\n",
    "              )\n",
    "\n",
    "res = mod.fit(cov_type='robust', \n",
    "              cluster_time=True\n",
    "             )\n",
    "print(res)\n"
   ]
  },
  {
   "cell_type": "code",
   "execution_count": 6,
   "metadata": {},
   "outputs": [
    {
     "name": "stderr",
     "output_type": "stream",
     "text": [
      "/Users/simonneumeyer/opt/anaconda3/lib/python3.7/site-packages/pandas/io/stata.py:2252: InvalidColumnName: \n",
      "Not all pandas column names were valid Stata variable names.\n",
      "The following replacements have been made:\n",
      "\n",
      "    b'Serbian-majority municipality'   ->   Serbian_majority_municipality\n",
      "    b'Exporting firm'   ->   Exporting_firm\n",
      "    b'Number of employees'   ->   Number_of_employees\n",
      "    b'Market concentration'   ->   Market_concentration\n",
      "\n",
      "If this is not what you expect, please make sure you have Stata-compliant\n",
      "column names in your DataFrame (strings only, max 32 characters, only\n",
      "alphanumerics and underscores, no Stata reserved words)\n",
      "\n",
      "  warnings.warn(ws, InvalidColumnName)\n"
     ]
    }
   ],
   "source": [
    "df_master_not_na.to_stata('../../data/output/firm_year_level_no_nans.dta')"
   ]
  },
  {
   "cell_type": "markdown",
   "metadata": {},
   "source": [
    "## With productivity"
   ]
  },
  {
   "cell_type": "code",
   "execution_count": 8,
   "metadata": {},
   "outputs": [
    {
     "name": "stdout",
     "output_type": "stream",
     "text": [
      "                          PanelOLS Estimation Summary                           \n",
      "================================================================================\n",
      "Dep. Variable:          participation   R-squared:                        0.0130\n",
      "Estimator:                   PanelOLS   R-squared (Between):              0.0364\n",
      "No. Observations:              123457   R-squared (Within):               0.0163\n",
      "Date:                Thu, May 05 2022   R-squared (Overall):              0.0218\n",
      "Time:                        14:18:19   Log-likelihood                -7.207e+04\n",
      "Cov. Estimator:                Robust                                           \n",
      "                                        F-statistic:                      231.52\n",
      "Entities:                         300   P-value                           0.0000\n",
      "Avg Obs:                       411.52   Distribution:                F(7,123143)\n",
      "Min Obs:                       1.0000                                           \n",
      "Max Obs:                       9280.0   F-statistic (robust):             163.48\n",
      "                                        P-value                           0.0000\n",
      "Time periods:                       8   Distribution:                F(7,123143)\n",
      "Avg Obs:                    1.543e+04                                           \n",
      "Min Obs:                    1.208e+04                                           \n",
      "Max Obs:                     1.79e+04                                           \n",
      "                                                                                \n",
      "                                       Parameter Estimates                                       \n",
      "=================================================================================================\n",
      "                               Parameter  Std. Err.     T-stat    P-value    Lower CI    Upper CI\n",
      "-------------------------------------------------------------------------------------------------\n",
      "Productivity                     7.9e-08  3.125e-08     2.5279     0.0115   1.775e-08   1.403e-07\n",
      "Productivity_t_1                2.18e-08  2.452e-08     0.8888     0.3741  -2.627e-08   6.986e-08\n",
      "Serbian-majority municipality    -0.0357     0.0123    -2.9057     0.0037     -0.0598     -0.0116\n",
      "Exporting firm                    0.1733     0.0070     24.640     0.0000      0.1595      0.1871\n",
      "age_bis_bis                       0.0053     0.0003     15.695     0.0000      0.0046      0.0059\n",
      "Number of employees               0.0003  4.682e-05     6.1029     0.0000      0.0002      0.0004\n",
      "Market concentration             -0.0040     0.0212    -0.1875     0.8512     -0.0455      0.0375\n",
      "const                             0.2446     0.0032     76.274     0.0000      0.2383      0.2508\n",
      "=================================================================================================\n",
      "\n",
      "F-test for Poolability: 33.841\n",
      "P-value: 0.0000\n",
      "Distribution: F(306,123143)\n",
      "\n",
      "Included effects: Entity, Time\n"
     ]
    }
   ],
   "source": [
    "indep_vars = ['Productivity', 'Productivity_t_1', 'Serbian-majority municipality', 'Exporting firm', 'age_bis_bis', 'Number of employees', 'Market concentration']\n",
    "panel_vars = ['isic_4d', 'period']\n",
    "\n",
    "df_master_not_na = df_master[indep_vars + panel_vars + ['participation']].dropna()\n",
    "\n",
    "df_master_not_na = df_master_not_na.set_index(panel_vars).sort_index()\n",
    "\n",
    "X = sm.add_constant(df_master_not_na[indep_vars], prepend=False)\n",
    "y = df_master_not_na.participation\n",
    "\n",
    "mod = PanelOLS(y, X, \n",
    "               entity_effects=True, \n",
    "               time_effects=True, \n",
    "               drop_absorbed=True\n",
    "              )\n",
    "\n",
    "res = mod.fit(cov_type='robust', \n",
    "              cluster_time=True\n",
    "             )\n",
    "print(res)\n"
   ]
  }
 ],
 "metadata": {
  "kernelspec": {
   "display_name": "Python 3",
   "language": "python",
   "name": "python3"
  },
  "language_info": {
   "codemirror_mode": {
    "name": "ipython",
    "version": 3
   },
   "file_extension": ".py",
   "mimetype": "text/x-python",
   "name": "python",
   "nbconvert_exporter": "python",
   "pygments_lexer": "ipython3",
   "version": "3.7.6"
  },
  "toc": {
   "base_numbering": 1,
   "nav_menu": {},
   "number_sections": true,
   "sideBar": true,
   "skip_h1_title": false,
   "title_cell": "Table of Contents",
   "title_sidebar": "Contents",
   "toc_cell": false,
   "toc_position": {},
   "toc_section_display": true,
   "toc_window_display": false
  }
 },
 "nbformat": 4,
 "nbformat_minor": 4
}
