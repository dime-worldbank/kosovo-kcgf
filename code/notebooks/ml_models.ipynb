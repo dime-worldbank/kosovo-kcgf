{
 "cells": [
  {
   "cell_type": "code",
   "execution_count": 1,
   "metadata": {},
   "outputs": [
    {
     "name": "stderr",
     "output_type": "stream",
     "text": [
      "\n",
      "Bad key \"text.kerning_factor\" on line 4 in\n",
      "/Users/simonneumeyer/opt/anaconda3/lib/python3.7/site-packages/matplotlib/mpl-data/stylelib/_classic_test_patch.mplstyle.\n",
      "You probably need to get an updated matplotlibrc file from\n",
      "https://github.com/matplotlib/matplotlib/blob/v3.1.3/matplotlibrc.template\n",
      "or from the matplotlib source distribution\n"
     ]
    }
   ],
   "source": [
    "import pandas as pd\n",
    "import numpy as np\n",
    "import os\n",
    "pd.options.display.max_rows = 500\n",
    "pd.options.display.max_columns = 200\n",
    "import datetime\n",
    "import pyarrow\n",
    "import matplotlib.pyplot as plt\n",
    "import seaborn as sns\n",
    "import statsmodels.api as sm\n",
    "from datetime import datetime, date\n",
    "import statsmodels.api as sm\n",
    "from sklearn.metrics import r2_score\n",
    "from sklearn.model_selection import train_test_split, GridSearchCV, cross_val_score\n",
    "from sklearn import linear_model\n",
    "from sklearn.ensemble import RandomForestRegressor\n",
    "from sklearn.impute import SimpleImputer\n",
    "\n",
    "import warnings\n",
    "warnings.filterwarnings(\"ignore\")\n",
    "old_data_folder = '/Users/simonneumeyer/Dropbox/DO-FILES/data/'"
   ]
  },
  {
   "cell_type": "code",
   "execution_count": 2,
   "metadata": {},
   "outputs": [],
   "source": [
    "out_of_sample = True\n",
    "impute_na = True"
   ]
  },
  {
   "cell_type": "markdown",
   "metadata": {},
   "source": [
    "# Load and process data"
   ]
  },
  {
   "cell_type": "code",
   "execution_count": 3,
   "metadata": {},
   "outputs": [],
   "source": [
    "#df = pd.read_stata('../../data/output/firm_year_level.dta')\n",
    "\n",
    "# without imputation\n",
    "df = pd.read_stata('../../data/output/firm_year_level_zeros.dta')"
   ]
  },
  {
   "cell_type": "code",
   "execution_count": 4,
   "metadata": {},
   "outputs": [],
   "source": [
    "#df[[x for x in df.columns if 'municipality' in x]]"
   ]
  },
  {
   "cell_type": "code",
   "execution_count": 5,
   "metadata": {},
   "outputs": [
    {
     "data": {
      "text/plain": [
       "['No loan (2016-2018)', 'Loan (2016-2018)', 'KCGF loan (2016-2018)']"
      ]
     },
     "execution_count": 5,
     "metadata": {},
     "output_type": "execute_result"
    }
   ],
   "source": [
    "df.credit_treatment_status.value_counts()\n",
    "df.type_firm_2015.value_counts().index.tolist()"
   ]
  },
  {
   "cell_type": "markdown",
   "metadata": {},
   "source": [
    "Both active=1, 2015, Keep only micro small and medium firms"
   ]
  },
  {
   "cell_type": "code",
   "execution_count": 6,
   "metadata": {},
   "outputs": [],
   "source": [
    "# keep only active firms in 2015 \n",
    "df = df[df.active=='Active firm in year t']\n",
    "df = df[df.period==2015]"
   ]
  },
  {
   "cell_type": "code",
   "execution_count": 7,
   "metadata": {},
   "outputs": [],
   "source": [
    "# impute missing data with size_creditdata column\n",
    "df['size_creditdata'] = df['size_creditdata'].map(\n",
    "    {'Micro': 'Micro (0-9)',\n",
    "     'Small': 'Small (10-49)',\n",
    "     'Medium': 'Medium (50-249)',\n",
    "     'Large': 'Large (250+)',\n",
    "     'N/A': np.nan\n",
    "    }\n",
    ")\n",
    "\n",
    "df['size'] = df['size'].fillna(df.size_creditdata)\n",
    "\n",
    "df['size'] = df['size'].map({\n",
    "    'Micro (0-9)': 1,\n",
    "    'Small (10-49)': 2,\n",
    "    'Medium (50-249)': 3,\n",
    "    'Large (250+)': 4,\n",
    "}).astype(float)"
   ]
  },
  {
   "cell_type": "code",
   "execution_count": 8,
   "metadata": {},
   "outputs": [
    {
     "data": {
      "text/plain": [
       "1.0    25616\n",
       "NaN    10601\n",
       "2.0     2002\n",
       "3.0      305\n",
       "4.0       49\n",
       "Name: size, dtype: int64"
      ]
     },
     "execution_count": 8,
     "metadata": {},
     "output_type": "execute_result"
    }
   ],
   "source": [
    "df['size'].value_counts(dropna=False)"
   ]
  },
  {
   "cell_type": "code",
   "execution_count": 9,
   "metadata": {},
   "outputs": [],
   "source": [
    "# drop large firms but keep NaNs\n",
    "df = df[(df['size']!=4) | (df['size'].isna())]"
   ]
  },
  {
   "cell_type": "code",
   "execution_count": 10,
   "metadata": {},
   "outputs": [
    {
     "data": {
      "text/plain": [
       "1.0    25616\n",
       "NaN    10601\n",
       "2.0     2002\n",
       "3.0      305\n",
       "Name: size, dtype: int64"
      ]
     },
     "execution_count": 10,
     "metadata": {},
     "output_type": "execute_result"
    }
   ],
   "source": [
    "df['size'].value_counts(dropna=False)"
   ]
  },
  {
   "cell_type": "code",
   "execution_count": 11,
   "metadata": {},
   "outputs": [],
   "source": [
    "df['export_tx'] = df['export_tx'].map({\n",
    "    'No export firm': 0,\n",
    "    'Export firm': 1,\n",
    "}).astype(float)\n",
    "\n",
    "df['import_tx'] = df['import_tx'].map({\n",
    "    'No import firm': 0,\n",
    "    'Import firm': 1,\n",
    "}).astype(float)"
   ]
  },
  {
   "cell_type": "code",
   "execution_count": 12,
   "metadata": {},
   "outputs": [],
   "source": [
    "df['firms_age_squared'] = df.firms_age ** 2\n",
    "\n",
    "df['num_loans_squared'] = df.num_loans ** 2\n",
    "df['lag1_num_loans_squared'] = df.lag1_num_loans ** 2\n",
    "df['lag2_num_loans_squared'] = df.lag2_num_loans ** 2\n",
    "df['lag3_num_loans_squared'] = df.lag3_num_loans ** 2\n",
    "df['lag4_num_loans_squared'] = df.lag4_num_loans ** 2\n",
    "df['lag5_num_loans_squared'] = df.lag5_num_loans ** 2\n",
    "\n",
    "df['productivity_r_squared'] = df.productivity_r ** 2\n",
    "df['lag1_productivity_r_squared'] = df.lag1_productivity_r ** 2\n",
    "df['lag2_productivity_r_squared'] = df.lag2_productivity_r ** 2\n",
    "df['lag3_productivity_r_squared'] = df.lag3_productivity_r ** 2\n",
    "df['lag4_productivity_r_squared'] = df.lag4_productivity_r ** 2\n",
    "df['lag5_productivity_r_squared'] = df.lag5_productivity_r ** 2\n",
    "\n",
    "df['employees_squared'] = df.employees ** 2\n",
    "df['lag1_employees_squared'] = df.lag1_employees ** 2\n",
    "df['lag2_employees_squared'] = df.lag2_employees ** 2\n",
    "df['lag3_employees_squared'] = df.lag3_employees ** 2\n",
    "df['lag4_employees_squared'] = df.lag4_employees ** 2\n",
    "df['lag5_employees_squared'] = df.lag5_employees ** 2\n",
    "\n",
    "df['wages_worker_r_squared'] = df.wages_worker_r ** 2\n",
    "df['lag1_wages_worker_r_squared'] = df.lag1_wages_worker_r ** 2\n",
    "df['lag2_wages_worker_r_squared'] = df.lag2_wages_worker_r ** 2\n",
    "df['lag3_wages_worker_r_squared'] = df.lag3_wages_worker_r ** 2\n",
    "df['lag4_wages_worker_r_squared'] = df.lag4_wages_worker_r ** 2\n",
    "df['lag5_wages_worker_r_squared'] = df.lag5_wages_worker_r ** 2\n",
    "\n",
    "df['export_tx_squared'] = df.export_tx ** 2\n",
    "df['lag1_export_tx_squared'] = df.lag1_export_tx ** 2\n",
    "df['lag2_export_tx_squared'] = df.lag2_export_tx ** 2\n",
    "df['lag3_export_tx_squared'] = df.lag3_export_tx ** 2\n",
    "df['lag4_export_tx_squared'] = df.lag4_export_tx ** 2\n",
    "df['lag5_export_tx_squared'] = df.lag5_export_tx ** 2\n",
    "\n",
    "df['import_tx_squared'] = df.import_tx ** 2\n",
    "df['lag1_import_tx_squared'] = df.lag1_import_tx ** 2\n",
    "df['lag2_import_tx_squared'] = df.lag2_import_tx ** 2\n",
    "df['lag3_import_tx_squared'] = df.lag3_import_tx ** 2\n",
    "df['lag4_import_tx_squared'] = df.lag4_import_tx ** 2\n",
    "df['lag5_import_tx_squared'] = df.lag5_import_tx ** 2\n",
    "\n",
    "df['size_squared'] = df['size'] ** 2\n",
    "df['lag1_size_squared'] = df.lag1_size ** 2\n",
    "df['lag2_size_squared'] = df.lag2_size ** 2\n",
    "df['lag3_size_squared'] = df.lag3_size ** 2\n",
    "df['lag4_size_squared'] = df.lag4_size ** 2\n",
    "df['lag5_size_squared'] = df.lag5_size ** 2\n",
    "\n",
    "df['turnover_r_squared'] = df.turnover_r ** 2\n",
    "df['lag1_turnover_r_squared'] = df.lag1_turnover_r ** 2\n",
    "df['lag2_turnover_r_squared'] = df.lag2_turnover_r ** 2\n",
    "df['lag3_turnover_r_squared'] = df.lag3_turnover_r ** 2\n",
    "df['lag4_turnover_r_squared'] = df.lag4_turnover_r ** 2\n",
    "df['lag5_turnover_r_squared'] = df.lag5_turnover_r ** 2\n",
    "\n",
    "df['number_loans_up2015_squared'] = df.number_loans_up2015 ** 2"
   ]
  },
  {
   "cell_type": "code",
   "execution_count": 13,
   "metadata": {},
   "outputs": [],
   "source": [
    "# dummies\n",
    "df[\n",
    "    ['sectionid', 'municipalityid', 'legalformid']] = df[\n",
    "    ['sectionid', 'municipalityid', 'legalformid']].astype(str)\n",
    "\n",
    "df_dummies = pd.get_dummies(df[[\n",
    "    'legalformid',\n",
    "    'sectionid',\n",
    "    'municipalityid',\n",
    "    'ethnicity',\n",
    "]])"
   ]
  },
  {
   "cell_type": "code",
   "execution_count": 14,
   "metadata": {},
   "outputs": [],
   "source": [
    "covars = ['firms_age', 'firms_age_squared', \n",
    "          \n",
    "          'productivity_r', 'lag1_productivity_r', 'lag2_productivity_r', \n",
    "          'lag3_productivity_r', 'lag4_productivity_r', 'lag5_productivity_r',\n",
    "          'productivity_r_squared', 'lag1_productivity_r_squared', 'lag2_productivity_r_squared', \n",
    "          'lag3_productivity_r_squared', 'lag4_productivity_r_squared', 'lag5_productivity_r_squared', \n",
    "          \n",
    "          'wages_worker_r', 'lag1_wages_worker_r', 'lag2_wages_worker_r', \n",
    "          'lag3_wages_worker_r', 'lag4_wages_worker_r', 'lag5_wages_worker_r',\n",
    "          'wages_worker_r_squared', 'lag1_wages_worker_r_squared', 'lag2_wages_worker_r_squared', \n",
    "          'lag3_wages_worker_r_squared', 'lag4_wages_worker_r_squared', 'lag5_wages_worker_r_squared', \n",
    "          \n",
    "          'num_loans', 'lag1_num_loans', 'lag2_num_loans',\n",
    "          'lag3_num_loans', 'lag4_num_loans', 'lag5_num_loans', \n",
    "          'num_loans_squared',  'lag1_num_loans_squared', 'lag2_num_loans_squared',\n",
    "          'lag3_num_loans_squared',  'lag4_num_loans_squared', 'lag5_num_loans_squared',\n",
    "          \n",
    "          'exports_amount_r', 'imports_amount_r',\n",
    "\n",
    "          'import_tx', 'lag1_import_tx', 'lag2_import_tx',\n",
    "          'lag3_import_tx', 'lag4_import_tx', 'lag5_import_tx', \n",
    "          'import_tx_squared',  'lag1_import_tx_squared', 'lag2_import_tx_squared',\n",
    "          'lag3_import_tx_squared',  'lag4_import_tx_squared', 'lag5_import_tx_squared',\n",
    "\n",
    "          'export_tx', 'lag1_export_tx', 'lag2_export_tx',\n",
    "          'lag3_export_tx', 'lag4_export_tx', 'lag5_export_tx', \n",
    "          'export_tx_squared',  'lag1_export_tx_squared', 'lag2_export_tx_squared',\n",
    "          'lag3_export_tx_squared',  'lag4_export_tx_squared', 'lag5_export_tx_squared',\n",
    "      \n",
    "          'size', \n",
    "          'lag1_size', 'lag2_size',\n",
    "          'lag3_size', 'lag4_size', 'lag5_size', \n",
    "          'size_squared',\n",
    "          'lag1_size_squared', 'lag2_size_squared',\n",
    "          'lag3_size_squared',  'lag4_size_squared', 'lag5_size_squared',\n",
    "\n",
    "          'turnover_r', 'lag1_turnover_r', 'lag2_turnover_r',\n",
    "          'lag3_turnover_r', 'lag4_turnover_r', 'lag5_turnover_r', \n",
    "          'turnover_r_squared',  'lag1_turnover_r_squared', 'lag2_turnover_r_squared',\n",
    "          'lag3_turnover_r_squared',  'lag4_turnover_r_squared', 'lag5_turnover_r_squared',\n",
    "          \n",
    "          'employees', 'lag1_employees', 'lag2_employees', 'lag3_employees',\n",
    "          'lag4_employees', 'lag5_employees',\n",
    "          'employees_squared', 'lag1_employees_squared', 'lag2_employees_squared',\n",
    "          'lag3_employees_squared', 'lag4_employees_squared', 'lag5_employees_squared',\n",
    "          'number_loans_up2015', 'number_loans_up2015_squared',\n",
    "\n",
    "          \n",
    "          #'ethnicity',\n",
    "          #'loanamount_r', 'disbursedamount_r', #'irate_effec',\n",
    "         \n",
    "         ] + df_dummies.columns.tolist()\n",
    "\n",
    "# drop variables with lot of missing values\n",
    "#covars = list(set(covars) - set(\n",
    "#    ['lag5_wages_worker_r_squared','lag5_wages_worker_r','lag5_productivity_r','lag5_productivity_r_squared',\n",
    "#     'lag5_employees_squared','lag5_employees','lag4_wages_worker_r','lag4_wages_worker_r_squared','lag5_size',\n",
    "#     'lag5_size_squared','lag4_productivity_r','lag4_productivity_r_squared','exports_amount_r','imports_amount_r',\n",
    "#     'lag4_employees','lag4_employees_squared','lag3_wages_worker_r_squared','lag3_wages_worker_r',\n",
    "#     'lag4_size_squared','lag4_size','lag3_productivity_r_squared','lag3_productivity_r','lag2_wages_worker_r',\n",
    "#     'lag2_wages_worker_r_squared','lag3_employees_squared','lag3_employees','lag3_size','lag3_size_squared']\n",
    "#)\n",
    "#             )\n",
    "\n",
    "\n",
    "## per Vivian's email:\n",
    "#df_dummies = pd.get_dummies(df[['sectionid']])\n",
    "#covars = [\n",
    "#    'employees', 'lag1_employees', 'employees_squared', 'lag1_employees_squared',\n",
    "#    'number_loans_up2015', 'number_loans_up2015_squared',\n",
    "#    'num_loans', 'num_loans_squared', 'lag1_num_loans', 'lag1_num_loans_squared',\n",
    "#    'lag2_num_loans', 'lag2_num_loans_squared', 'lag3_num_loans', 'lag3_num_loans_squared',\n",
    "#    'productivity_r', 'lag1_productivity_r', 'productivity_r_squared', 'lag1_productivity_r_squared', \n",
    "#    'wages_worker_r', 'lag1_wages_worker_r', 'wages_worker_r_squared', 'lag1_wages_worker_r_squared', \n",
    "#    'import_tx', 'export_tx',\n",
    "#    'firms_age', 'firms_age_squared',\n",
    "#    \n",
    "##    'turnover_r', 'lag1_turnover_r', 'turnover_r_squared', 'lag1_turnover_r_squared',\n",
    "##    'size', 'lag1_size','size_squared',  'lag1_size_squared'\n",
    "#    \n",
    "#] + df_dummies.columns.tolist()"
   ]
  },
  {
   "cell_type": "code",
   "execution_count": 15,
   "metadata": {},
   "outputs": [
    {
     "data": {
      "text/plain": [
       "['firms_age',\n",
       " 'firms_age_squared',\n",
       " 'productivity_r',\n",
       " 'lag1_productivity_r',\n",
       " 'lag2_productivity_r',\n",
       " 'lag3_productivity_r',\n",
       " 'lag4_productivity_r',\n",
       " 'lag5_productivity_r',\n",
       " 'productivity_r_squared',\n",
       " 'lag1_productivity_r_squared',\n",
       " 'lag2_productivity_r_squared',\n",
       " 'lag3_productivity_r_squared',\n",
       " 'lag4_productivity_r_squared',\n",
       " 'lag5_productivity_r_squared',\n",
       " 'wages_worker_r',\n",
       " 'lag1_wages_worker_r',\n",
       " 'lag2_wages_worker_r',\n",
       " 'lag3_wages_worker_r',\n",
       " 'lag4_wages_worker_r',\n",
       " 'lag5_wages_worker_r',\n",
       " 'wages_worker_r_squared',\n",
       " 'lag1_wages_worker_r_squared',\n",
       " 'lag2_wages_worker_r_squared',\n",
       " 'lag3_wages_worker_r_squared',\n",
       " 'lag4_wages_worker_r_squared',\n",
       " 'lag5_wages_worker_r_squared',\n",
       " 'num_loans',\n",
       " 'lag1_num_loans',\n",
       " 'lag2_num_loans',\n",
       " 'lag3_num_loans',\n",
       " 'lag4_num_loans',\n",
       " 'lag5_num_loans',\n",
       " 'num_loans_squared',\n",
       " 'lag1_num_loans_squared',\n",
       " 'lag2_num_loans_squared',\n",
       " 'lag3_num_loans_squared',\n",
       " 'lag4_num_loans_squared',\n",
       " 'lag5_num_loans_squared',\n",
       " 'exports_amount_r',\n",
       " 'imports_amount_r',\n",
       " 'import_tx',\n",
       " 'lag1_import_tx',\n",
       " 'lag2_import_tx',\n",
       " 'lag3_import_tx',\n",
       " 'lag4_import_tx',\n",
       " 'lag5_import_tx',\n",
       " 'import_tx_squared',\n",
       " 'lag1_import_tx_squared',\n",
       " 'lag2_import_tx_squared',\n",
       " 'lag3_import_tx_squared',\n",
       " 'lag4_import_tx_squared',\n",
       " 'lag5_import_tx_squared',\n",
       " 'export_tx',\n",
       " 'lag1_export_tx',\n",
       " 'lag2_export_tx',\n",
       " 'lag3_export_tx',\n",
       " 'lag4_export_tx',\n",
       " 'lag5_export_tx',\n",
       " 'export_tx_squared',\n",
       " 'lag1_export_tx_squared',\n",
       " 'lag2_export_tx_squared',\n",
       " 'lag3_export_tx_squared',\n",
       " 'lag4_export_tx_squared',\n",
       " 'lag5_export_tx_squared',\n",
       " 'size',\n",
       " 'lag1_size',\n",
       " 'lag2_size',\n",
       " 'lag3_size',\n",
       " 'lag4_size',\n",
       " 'lag5_size',\n",
       " 'size_squared',\n",
       " 'lag1_size_squared',\n",
       " 'lag2_size_squared',\n",
       " 'lag3_size_squared',\n",
       " 'lag4_size_squared',\n",
       " 'lag5_size_squared',\n",
       " 'turnover_r',\n",
       " 'lag1_turnover_r',\n",
       " 'lag2_turnover_r',\n",
       " 'lag3_turnover_r',\n",
       " 'lag4_turnover_r',\n",
       " 'lag5_turnover_r',\n",
       " 'turnover_r_squared',\n",
       " 'lag1_turnover_r_squared',\n",
       " 'lag2_turnover_r_squared',\n",
       " 'lag3_turnover_r_squared',\n",
       " 'lag4_turnover_r_squared',\n",
       " 'lag5_turnover_r_squared',\n",
       " 'employees',\n",
       " 'lag1_employees',\n",
       " 'lag2_employees',\n",
       " 'lag3_employees',\n",
       " 'lag4_employees',\n",
       " 'lag5_employees',\n",
       " 'employees_squared',\n",
       " 'lag1_employees_squared',\n",
       " 'lag2_employees_squared',\n",
       " 'lag3_employees_squared',\n",
       " 'lag4_employees_squared',\n",
       " 'lag5_employees_squared',\n",
       " 'number_loans_up2015',\n",
       " 'number_loans_up2015_squared',\n",
       " 'legalformid_1.0',\n",
       " 'legalformid_10.0',\n",
       " 'legalformid_2.0',\n",
       " 'legalformid_3.0',\n",
       " 'legalformid_4.0',\n",
       " 'legalformid_5.0',\n",
       " 'legalformid_6.0',\n",
       " 'legalformid_7.0',\n",
       " 'legalformid_8.0',\n",
       " 'legalformid_9.0',\n",
       " 'legalformid_nan',\n",
       " 'sectionid_1.0',\n",
       " 'sectionid_10.0',\n",
       " 'sectionid_11.0',\n",
       " 'sectionid_12.0',\n",
       " 'sectionid_13.0',\n",
       " 'sectionid_15.0',\n",
       " 'sectionid_16.0',\n",
       " 'sectionid_17.0',\n",
       " 'sectionid_18.0',\n",
       " 'sectionid_19.0',\n",
       " 'sectionid_20.0',\n",
       " 'sectionid_21.0',\n",
       " 'sectionid_3.0',\n",
       " 'sectionid_4.0',\n",
       " 'sectionid_5.0',\n",
       " 'sectionid_6.0',\n",
       " 'sectionid_7.0',\n",
       " 'sectionid_8.0',\n",
       " 'sectionid_9.0',\n",
       " 'sectionid_nan',\n",
       " 'municipalityid_1.0',\n",
       " 'municipalityid_10.0',\n",
       " 'municipalityid_11.0',\n",
       " 'municipalityid_12.0',\n",
       " 'municipalityid_13.0',\n",
       " 'municipalityid_14.0',\n",
       " 'municipalityid_15.0',\n",
       " 'municipalityid_16.0',\n",
       " 'municipalityid_17.0',\n",
       " 'municipalityid_18.0',\n",
       " 'municipalityid_19.0',\n",
       " 'municipalityid_2.0',\n",
       " 'municipalityid_20.0',\n",
       " 'municipalityid_21.0',\n",
       " 'municipalityid_22.0',\n",
       " 'municipalityid_23.0',\n",
       " 'municipalityid_24.0',\n",
       " 'municipalityid_25.0',\n",
       " 'municipalityid_26.0',\n",
       " 'municipalityid_27.0',\n",
       " 'municipalityid_28.0',\n",
       " 'municipalityid_29.0',\n",
       " 'municipalityid_3.0',\n",
       " 'municipalityid_30.0',\n",
       " 'municipalityid_31.0',\n",
       " 'municipalityid_38.0',\n",
       " 'municipalityid_39.0',\n",
       " 'municipalityid_4.0',\n",
       " 'municipalityid_5.0',\n",
       " 'municipalityid_6.0',\n",
       " 'municipalityid_7.0',\n",
       " 'municipalityid_8.0',\n",
       " 'municipalityid_9.0',\n",
       " 'municipalityid_nan',\n",
       " 'ethnicity_Non-Serbian majority',\n",
       " 'ethnicity_Serbian majority']"
      ]
     },
     "execution_count": 15,
     "metadata": {},
     "output_type": "execute_result"
    }
   ],
   "source": [
    "covars"
   ]
  },
  {
   "cell_type": "code",
   "execution_count": 16,
   "metadata": {},
   "outputs": [
    {
     "data": {
      "text/plain": [
       "169"
      ]
     },
     "execution_count": 16,
     "metadata": {},
     "output_type": "execute_result"
    }
   ],
   "source": [
    "len(covars)"
   ]
  },
  {
   "cell_type": "markdown",
   "metadata": {},
   "source": [
    "## add dummies to dataset"
   ]
  },
  {
   "cell_type": "code",
   "execution_count": 17,
   "metadata": {},
   "outputs": [],
   "source": [
    "df = pd.concat([df, df_dummies], axis=1)"
   ]
  },
  {
   "cell_type": "code",
   "execution_count": 18,
   "metadata": {},
   "outputs": [],
   "source": [
    "df = df.reset_index(drop=True)"
   ]
  },
  {
   "cell_type": "code",
   "execution_count": 19,
   "metadata": {},
   "outputs": [
    {
     "data": {
      "text/plain": [
       "(38524, 310)"
      ]
     },
     "execution_count": 19,
     "metadata": {},
     "output_type": "execute_result"
    }
   ],
   "source": [
    "df.shape"
   ]
  },
  {
   "cell_type": "markdown",
   "metadata": {},
   "source": [
    "## create dependent variables"
   ]
  },
  {
   "cell_type": "code",
   "execution_count": 20,
   "metadata": {},
   "outputs": [],
   "source": [
    "df['y_vs_other_loans'] = df.type_firm_2015.map({'Loan (2016-2018)': 0, 'KCGF loan (2016-2018)': 1})\n",
    "df['y_vs_no_loans'] = df.type_firm_2015.map({'No loan (2016-2018)': 0, 'KCGF loan (2016-2018)': 1})\n"
   ]
  },
  {
   "cell_type": "code",
   "execution_count": 21,
   "metadata": {},
   "outputs": [
    {
     "data": {
      "text/plain": [
       "NaN    24795\n",
       "0.0    12774\n",
       "1.0      955\n",
       "Name: y_vs_other_loans, dtype: int64"
      ]
     },
     "execution_count": 21,
     "metadata": {},
     "output_type": "execute_result"
    }
   ],
   "source": [
    "df['y_vs_other_loans'].value_counts(dropna=False)"
   ]
  },
  {
   "cell_type": "code",
   "execution_count": 22,
   "metadata": {},
   "outputs": [],
   "source": [
    "#df[[x for x in df.columns if 'municipality' in x]]"
   ]
  },
  {
   "cell_type": "code",
   "execution_count": 23,
   "metadata": {},
   "outputs": [
    {
     "data": {
      "text/plain": [
       "0.0    24795\n",
       "NaN    12774\n",
       "1.0      955\n",
       "Name: y_vs_no_loans, dtype: int64"
      ]
     },
     "execution_count": 23,
     "metadata": {},
     "output_type": "execute_result"
    }
   ],
   "source": [
    "df['y_vs_no_loans'].value_counts(dropna=False)"
   ]
  },
  {
   "cell_type": "markdown",
   "metadata": {},
   "source": [
    "## choose comparison group"
   ]
  },
  {
   "cell_type": "code",
   "execution_count": 24,
   "metadata": {},
   "outputs": [],
   "source": [
    "comp_group = 'y_vs_no_loans'\n",
    "#comp_group = 'y_vs_other_loans'"
   ]
  },
  {
   "cell_type": "code",
   "execution_count": 25,
   "metadata": {},
   "outputs": [],
   "source": [
    "#df[covars + [comp_group]].isna().sum().sort_values(ascending=False)"
   ]
  },
  {
   "cell_type": "code",
   "execution_count": 26,
   "metadata": {},
   "outputs": [
    {
     "data": {
      "text/plain": [
       "2015    38524\n",
       "Name: period, dtype: int64"
      ]
     },
     "execution_count": 26,
     "metadata": {},
     "output_type": "execute_result"
    }
   ],
   "source": [
    "df.period.value_counts()"
   ]
  },
  {
   "cell_type": "markdown",
   "metadata": {},
   "source": [
    "## create X & y datasets"
   ]
  },
  {
   "cell_type": "code",
   "execution_count": 27,
   "metadata": {},
   "outputs": [],
   "source": [
    "if impute_na:\n",
    "    df_dropna = df.dropna(subset=[comp_group])\n",
    "\n",
    "else:\n",
    "    df_dropna = df.dropna(subset=covars + [comp_group])\n",
    "    \n",
    "y = df_dropna[comp_group]\n",
    "X = df_dropna[covars]"
   ]
  },
  {
   "cell_type": "code",
   "execution_count": 28,
   "metadata": {},
   "outputs": [
    {
     "data": {
      "text/plain": [
       "0.0    24795\n",
       "1.0      955\n",
       "Name: y_vs_no_loans, dtype: int64"
      ]
     },
     "execution_count": 28,
     "metadata": {},
     "output_type": "execute_result"
    }
   ],
   "source": [
    "y.value_counts(dropna=False)"
   ]
  },
  {
   "cell_type": "code",
   "execution_count": 29,
   "metadata": {},
   "outputs": [
    {
     "data": {
      "text/plain": [
       "25750"
      ]
     },
     "execution_count": 29,
     "metadata": {},
     "output_type": "execute_result"
    }
   ],
   "source": [
    "y.count()"
   ]
  },
  {
   "cell_type": "markdown",
   "metadata": {},
   "source": [
    "## Include loan level data?"
   ]
  },
  {
   "cell_type": "code",
   "execution_count": 30,
   "metadata": {},
   "outputs": [],
   "source": [
    "##df\n",
    "#\n",
    "#if comp_group == 'y_vs_other_loans':\n",
    "#    print(df.loanamount_r.notna().sum())\n",
    "#    print(df.disbursedamount_r.notna().sum())\n",
    "#    print(df.irate_effec.notna().sum())\n",
    "#    print(df.ethnicity.notna().sum())\n",
    "#    print(df.exports_amount.notna().sum())\n",
    "#    print(df.imports_amount.notna().sum())\n",
    "#    "
   ]
  },
  {
   "cell_type": "markdown",
   "metadata": {},
   "source": [
    "## Perform train-test-split"
   ]
  },
  {
   "cell_type": "code",
   "execution_count": 31,
   "metadata": {},
   "outputs": [],
   "source": [
    "if out_of_sample:\n",
    "    \n",
    "    X_train, X_test, y_train, y_test = train_test_split(X, y, test_size=0.20, random_state=42)\n",
    "    \n",
    "    X_tr = X_train\n",
    "    X_te = X_test\n",
    "    y_tr = y_train\n",
    "    y_te = y_test\n",
    "\n",
    "else:\n",
    "    X_tr = X\n",
    "    X_te = X \n",
    "    y_tr = y\n",
    "    y_te = y"
   ]
  },
  {
   "cell_type": "markdown",
   "metadata": {},
   "source": [
    "## Impute missing values:"
   ]
  },
  {
   "cell_type": "code",
   "execution_count": 32,
   "metadata": {},
   "outputs": [],
   "source": [
    "if impute_na:\n",
    "    # fit imputer on training data:\n",
    "    imp_mean = SimpleImputer(strategy='median')\n",
    "    imp_mean.fit(X_tr)\n",
    "    # Impute training data\n",
    "    X_filled = imp_mean.transform(X_tr)\n",
    "    X_tr = pd.DataFrame(X_filled, columns=X_tr.columns, index=X_tr.index)\n",
    "    # Impute test data\n",
    "    X_test_filled = imp_mean.transform(X_te)\n",
    "    X_te = pd.DataFrame(X_test_filled, columns=X_te.columns, index=X_te.index)"
   ]
  },
  {
   "cell_type": "code",
   "execution_count": 33,
   "metadata": {},
   "outputs": [],
   "source": [
    "#%%time\n",
    "#from sklearn.experimental import enable_iterative_imputer\n",
    "#from sklearn.impute import IterativeImputer\n",
    "##\n",
    "#imp_iter = IterativeImputer(random_state=0)\n",
    "#imp_iter.fit(X_tr)\n",
    "#\n",
    "#X_ = imp_iter.transform(X_tr)\n",
    "#X_tr = pd.DataFrame(X_, columns=X_tr.columns, index=X_tr.index)\n",
    "#\n",
    "#X_te_ = imp_iter.transform(X_te)\n",
    "#X_te = pd.DataFrame(X_te_, columns=X_te.columns, index=X_te.index)"
   ]
  },
  {
   "cell_type": "markdown",
   "metadata": {},
   "source": [
    "## feature scaling"
   ]
  },
  {
   "cell_type": "code",
   "execution_count": 34,
   "metadata": {},
   "outputs": [],
   "source": [
    "#from sklearn import preprocessing\n",
    "#\n",
    "## Here I scale for the numerical features\n",
    "#\n",
    "#scaler = preprocessing.StandardScaler().fit(X_tr)\n",
    "#X_scaled = scaler.transform(X_tr)\n",
    "#X_test_scaled = scaler.transform(X_te)\n",
    "#\n",
    "#X_tr = pd.DataFrame(X_scaled, columns=X_tr.columns, index=X_tr.index)\n",
    "#X_te = pd.DataFrame(X_test_scaled, columns=X_te.columns, index=X_te.index)\n",
    "#\n",
    "## X.describe()"
   ]
  },
  {
   "cell_type": "markdown",
   "metadata": {},
   "source": [
    "# OLS"
   ]
  },
  {
   "cell_type": "code",
   "execution_count": 125,
   "metadata": {
    "scrolled": true
   },
   "outputs": [
    {
     "name": "stdout",
     "output_type": "stream",
     "text": [
      "                            OLS Regression Results                            \n",
      "==============================================================================\n",
      "Dep. Variable:          y_vs_no_loans   R-squared:                       0.173\n",
      "Model:                            OLS   Adj. R-squared:                  0.167\n",
      "Method:                 Least Squares   F-statistic:                     28.93\n",
      "Date:                Wed, 22 Jun 2022   Prob (F-statistic):               0.00\n",
      "Time:                        18:18:53   Log-Likelihood:                 7194.0\n",
      "No. Observations:               20600   AIC:                        -1.409e+04\n",
      "Df Residuals:                   20451   BIC:                        -1.291e+04\n",
      "Df Model:                         148                                         \n",
      "Covariance Type:            nonrobust                                         \n",
      "==================================================================================================\n",
      "                                     coef    std err          t      P>|t|      [0.025      0.975]\n",
      "--------------------------------------------------------------------------------------------------\n",
      "firms_age                         -0.0049      0.001     -3.740      0.000      -0.007      -0.002\n",
      "firms_age_squared                  0.0003   9.51e-05      3.413      0.001       0.000       0.001\n",
      "productivity_r                  4.018e-07   2.66e-07      1.512      0.131   -1.19e-07    9.23e-07\n",
      "lag1_productivity_r             2.286e-08   3.13e-07      0.073      0.942   -5.91e-07    6.36e-07\n",
      "lag2_productivity_r             -1.47e-07   3.24e-07     -0.454      0.650   -7.82e-07    4.88e-07\n",
      "lag3_productivity_r            -8.718e-08   3.29e-07     -0.265      0.791   -7.33e-07    5.58e-07\n",
      "lag4_productivity_r            -7.753e-07   3.37e-07     -2.297      0.022   -1.44e-06   -1.14e-07\n",
      "lag5_productivity_r             1.069e-07   3.66e-07      0.292      0.770   -6.11e-07    8.24e-07\n",
      "productivity_r_squared          -5.67e-13   2.26e-12     -0.251      0.802      -5e-12    3.87e-12\n",
      "lag1_productivity_r_squared     2.449e-12   2.62e-12      0.935      0.350   -2.68e-12    7.58e-12\n",
      "lag2_productivity_r_squared     1.607e-12   2.69e-12      0.597      0.551   -3.67e-12    6.88e-12\n",
      "lag3_productivity_r_squared     1.804e-12   2.73e-12      0.662      0.508   -3.54e-12    7.15e-12\n",
      "lag4_productivity_r_squared     7.213e-12   2.72e-12      2.653      0.008    1.88e-12    1.25e-11\n",
      "lag5_productivity_r_squared    -4.383e-12   3.17e-12     -1.385      0.166   -1.06e-11    1.82e-12\n",
      "wages_worker_r                  4.173e-06   5.98e-06      0.697      0.486   -7.56e-06    1.59e-05\n",
      "lag1_wages_worker_r             1.017e-05   7.91e-06      1.286      0.199   -5.33e-06    2.57e-05\n",
      "lag2_wages_worker_r             8.928e-07   8.96e-06      0.100      0.921   -1.67e-05    1.84e-05\n",
      "lag3_wages_worker_r             7.249e-06   8.58e-06      0.845      0.398   -9.57e-06    2.41e-05\n",
      "lag4_wages_worker_r            -1.542e-05   9.38e-06     -1.644      0.100   -3.38e-05    2.97e-06\n",
      "lag5_wages_worker_r              7.38e-06   8.82e-06      0.837      0.403   -9.91e-06    2.47e-05\n",
      "wages_worker_r_squared          4.068e-10    1.2e-09      0.339      0.735   -1.95e-09    2.76e-09\n",
      "lag1_wages_worker_r_squared    -2.545e-09    1.5e-09     -1.693      0.091   -5.49e-09    4.02e-10\n",
      "lag2_wages_worker_r_squared    -1.105e-09   1.67e-09     -0.662      0.508   -4.37e-09    2.16e-09\n",
      "lag3_wages_worker_r_squared    -9.812e-10   1.61e-09     -0.608      0.543   -4.15e-09    2.18e-09\n",
      "lag4_wages_worker_r_squared     3.428e-09   1.75e-09      1.960      0.050      -9e-13    6.86e-09\n",
      "lag5_wages_worker_r_squared     -1.93e-09   1.64e-09     -1.174      0.241   -5.15e-09    1.29e-09\n",
      "num_loans                          0.1042      0.003     35.442      0.000       0.098       0.110\n",
      "lag1_num_loans                     0.0484      0.003     14.793      0.000       0.042       0.055\n",
      "lag2_num_loans                     0.0269      0.005      5.124      0.000       0.017       0.037\n",
      "lag3_num_loans                     0.0203      0.008      2.587      0.010       0.005       0.036\n",
      "lag4_num_loans                     0.0202      0.012      1.639      0.101      -0.004       0.044\n",
      "lag5_num_loans                     0.0026      0.016      0.161      0.872      -0.029       0.035\n",
      "num_loans_squared                 -0.0037      0.000    -15.817      0.000      -0.004      -0.003\n",
      "lag1_num_loans_squared            -0.0032      0.000     -7.044      0.000      -0.004      -0.002\n",
      "lag2_num_loans_squared            -0.0046      0.001     -3.136      0.002      -0.007      -0.002\n",
      "lag3_num_loans_squared            -0.0121      0.003     -3.927      0.000      -0.018      -0.006\n",
      "lag4_num_loans_squared            -0.0089      0.006     -1.487      0.137      -0.021       0.003\n",
      "lag5_num_loans_squared            -0.0042      0.008     -0.529      0.597      -0.020       0.011\n",
      "exports_amount_r                4.335e-06   1.31e-06      3.300      0.001    1.76e-06    6.91e-06\n",
      "imports_amount_r                9.772e-08   2.47e-08      3.961      0.000    4.94e-08    1.46e-07\n",
      "import_tx                          0.0080      0.003      2.976      0.003       0.003       0.013\n",
      "lag1_import_tx                    -0.0090      0.003     -2.573      0.010      -0.016      -0.002\n",
      "lag2_import_tx                     0.0024      0.004      0.594      0.553      -0.005       0.010\n",
      "lag3_import_tx                    -0.0020      0.004     -0.465      0.642      -0.010       0.006\n",
      "lag4_import_tx                    -0.0070      0.004     -1.760      0.078      -0.015       0.001\n",
      "lag5_import_tx                 -4.417e-07   6.97e-07     -0.633      0.527   -1.81e-06    9.25e-07\n",
      "import_tx_squared                  0.0080      0.003      2.976      0.003       0.003       0.013\n",
      "lag1_import_tx_squared            -0.0090      0.003     -2.573      0.010      -0.016      -0.002\n",
      "lag2_import_tx_squared             0.0024      0.004      0.594      0.553      -0.005       0.010\n",
      "lag3_import_tx_squared            -0.0020      0.004     -0.465      0.642      -0.010       0.006\n",
      "lag4_import_tx_squared            -0.0070      0.004     -1.760      0.078      -0.015       0.001\n",
      "lag5_import_tx_squared          -1.14e-07    1.8e-07     -0.633      0.527   -4.67e-07    2.39e-07\n",
      "export_tx                         -0.0099      0.006     -1.630      0.103      -0.022       0.002\n",
      "lag1_export_tx                    -0.0084      0.006     -1.324      0.186      -0.021       0.004\n",
      "lag2_export_tx                     0.0070      0.007      1.047      0.295      -0.006       0.020\n",
      "lag3_export_tx                    -0.0001      0.007     -0.018      0.985      -0.014       0.014\n",
      "lag4_export_tx                    -0.0014      0.007     -0.200      0.842      -0.015       0.012\n",
      "lag5_export_tx                 -4.286e-08   6.77e-08     -0.633      0.527   -1.76e-07    8.98e-08\n",
      "export_tx_squared                 -0.0099      0.006     -1.630      0.103      -0.022       0.002\n",
      "lag1_export_tx_squared            -0.0084      0.006     -1.324      0.186      -0.021       0.004\n",
      "lag2_export_tx_squared             0.0070      0.007      1.047      0.295      -0.006       0.020\n",
      "lag3_export_tx_squared            -0.0001      0.007     -0.018      0.985      -0.014       0.014\n",
      "lag4_export_tx_squared            -0.0014      0.007     -0.200      0.842      -0.015       0.012\n",
      "lag5_export_tx_squared          5.128e-10    8.1e-10      0.633      0.527   -1.07e-09     2.1e-09\n",
      "size                              -0.0174      0.071     -0.244      0.807      -0.157       0.123\n",
      "lag1_size                         -0.0042      0.085     -0.050      0.960      -0.170       0.162\n",
      "lag2_size                          0.0793      0.074      1.071      0.284      -0.066       0.225\n",
      "lag3_size                         -0.1338      0.079     -1.698      0.089      -0.288       0.021\n",
      "lag4_size                         -0.0738      0.080     -0.927      0.354      -0.230       0.082\n",
      "lag5_size                          0.0779      0.069      1.131      0.258      -0.057       0.213\n",
      "size_squared                       0.0093      0.021      0.440      0.660      -0.032       0.051\n",
      "lag1_size_squared                 -0.0039      0.025     -0.155      0.877      -0.053       0.045\n",
      "lag2_size_squared                 -0.0236      0.022     -1.077      0.281      -0.067       0.019\n",
      "lag3_size_squared                  0.0433      0.023      1.885      0.060      -0.002       0.088\n",
      "lag4_size_squared                  0.0124      0.023      0.529      0.597      -0.034       0.058\n",
      "lag5_size_squared                 -0.0215      0.019     -1.117      0.264      -0.059       0.016\n",
      "turnover_r                      3.742e-07   7.19e-08      5.204      0.000    2.33e-07    5.15e-07\n",
      "lag1_turnover_r                -3.241e-09   8.35e-08     -0.039      0.969   -1.67e-07     1.6e-07\n",
      "lag2_turnover_r                 2.688e-08   8.68e-08      0.310      0.757   -1.43e-07    1.97e-07\n",
      "lag3_turnover_r                -3.217e-08   8.91e-08     -0.361      0.718   -2.07e-07    1.43e-07\n",
      "lag4_turnover_r                 2.176e-07   8.87e-08      2.453      0.014    4.37e-08    3.91e-07\n",
      "lag5_turnover_r                 3.281e-08   8.58e-08      0.382      0.702   -1.35e-07    2.01e-07\n",
      "turnover_r_squared             -6.251e-13   1.32e-13     -4.734      0.000   -8.84e-13   -3.66e-13\n",
      "lag1_turnover_r_squared         5.847e-14   1.51e-13      0.386      0.699   -2.38e-13    3.55e-13\n",
      "lag2_turnover_r_squared        -1.478e-13   1.55e-13     -0.954      0.340   -4.52e-13    1.56e-13\n",
      "lag3_turnover_r_squared         1.152e-13   1.56e-13      0.737      0.461   -1.91e-13    4.21e-13\n",
      "lag4_turnover_r_squared        -3.038e-13   1.55e-13     -1.965      0.049   -6.07e-13   -8.13e-16\n",
      "lag5_turnover_r_squared        -1.305e-13   1.55e-13     -0.840      0.401   -4.35e-13    1.74e-13\n",
      "employees                          0.0092      0.003      3.636      0.000       0.004       0.014\n",
      "lag1_employees                    -0.0039      0.003     -1.382      0.167      -0.009       0.002\n",
      "lag2_employees                    -0.0004      0.003     -0.131      0.896      -0.007       0.006\n",
      "lag3_employees                     0.0052      0.003      1.576      0.115      -0.001       0.012\n",
      "lag4_employees                    -0.0048      0.003     -1.457      0.145      -0.011       0.002\n",
      "lag5_employees                     0.0053      0.003      1.869      0.062      -0.000       0.011\n",
      "employees_squared                 -0.0006      0.000     -2.785      0.005      -0.001      -0.000\n",
      "lag1_employees_squared             0.0004      0.000      1.654      0.098   -7.18e-05       0.001\n",
      "lag2_employees_squared            -0.0001      0.000     -0.514      0.607      -0.001       0.000\n",
      "lag3_employees_squared            -0.0004      0.000     -1.527      0.127      -0.001       0.000\n",
      "lag4_employees_squared             0.0004      0.000      1.317      0.188      -0.000       0.001\n",
      "lag5_employees_squared            -0.0006      0.000     -2.333      0.020      -0.001   -8.86e-05\n",
      "number_loans_up2015               -0.0155      0.004     -3.805      0.000      -0.023      -0.008\n",
      "number_loans_up2015_squared        0.0042      0.001      3.358      0.001       0.002       0.007\n",
      "legalformid_1.0                    0.0135      0.027      0.502      0.616      -0.039       0.066\n",
      "legalformid_10.0                   0.0264      0.097      0.273      0.785      -0.163       0.216\n",
      "legalformid_2.0                    0.0185      0.029      0.646      0.518      -0.038       0.075\n",
      "legalformid_3.0                   -0.0614      0.160     -0.383      0.702      -0.376       0.253\n",
      "legalformid_4.0                    0.0171      0.027      0.635      0.525      -0.036       0.070\n",
      "legalformid_5.0                    0.0106      0.035      0.299      0.765      -0.059       0.080\n",
      "legalformid_6.0                  2.93e-06      0.030   9.71e-05      1.000      -0.059       0.059\n",
      "legalformid_7.0                   -0.0082      0.095     -0.086      0.931      -0.195       0.178\n",
      "legalformid_8.0                    0.0215      0.161      0.134      0.894      -0.294       0.337\n",
      "legalformid_9.0                   -0.0280      0.069     -0.404      0.686      -0.164       0.108\n",
      "legalformid_nan                   -0.0090      0.021     -0.428      0.669      -0.050       0.032\n",
      "sectionid_1.0                     -0.0035      0.007     -0.477      0.634      -0.018       0.011\n",
      "sectionid_10.0                     0.0079      0.009      0.850      0.396      -0.010       0.026\n",
      "sectionid_11.0                     0.0011      0.010      0.114      0.909      -0.018       0.021\n",
      "sectionid_12.0                     0.0102      0.007      1.388      0.165      -0.004       0.025\n",
      "sectionid_13.0                     0.0034      0.020      0.168      0.867      -0.037       0.043\n",
      "sectionid_15.0                     0.0032      0.008      0.391      0.696      -0.013       0.019\n",
      "sectionid_16.0                    -0.0157      0.008     -1.896      0.058      -0.032       0.001\n",
      "sectionid_17.0                     0.0291      0.026      1.106      0.269      -0.023       0.081\n",
      "sectionid_18.0                    -0.0076      0.024     -0.319      0.750      -0.055       0.039\n",
      "sectionid_19.0                     0.0108      0.010      1.133      0.257      -0.008       0.029\n",
      "sectionid_20.0                     0.0221      0.022      1.025      0.305      -0.020       0.064\n",
      "sectionid_21.0                     0.0076      0.007      1.145      0.252      -0.005       0.021\n",
      "sectionid_3.0                     -0.0065      0.011     -0.565      0.572      -0.029       0.016\n",
      "sectionid_4.0                      0.0052      0.011      0.470      0.638      -0.016       0.027\n",
      "sectionid_5.0                     -0.0089      0.013     -0.676      0.499      -0.035       0.017\n",
      "sectionid_6.0                     -0.0035      0.008     -0.442      0.658      -0.019       0.012\n",
      "sectionid_7.0                     -0.0108      0.013     -0.828      0.408      -0.036       0.015\n",
      "sectionid_8.0                     -0.0171      0.043     -0.398      0.690      -0.101       0.067\n",
      "sectionid_9.0                     -0.0172      0.020     -0.841      0.401      -0.057       0.023\n",
      "sectionid_nan                     -0.0090      0.021     -0.428      0.669      -0.050       0.032\n",
      "municipalityid_1.0                -0.0075      0.010     -0.737      0.461      -0.027       0.012\n",
      "municipalityid_10.0               -0.0085      0.010     -0.848      0.397      -0.028       0.011\n",
      "municipalityid_11.0                0.0076      0.007      1.094      0.274      -0.006       0.021\n",
      "municipalityid_12.0               -0.0062      0.023     -0.270      0.787      -0.051       0.039\n",
      "municipalityid_13.0                0.0211      0.009      2.445      0.015       0.004       0.038\n",
      "municipalityid_14.0                0.0349      0.035      1.001      0.317      -0.033       0.103\n",
      "municipalityid_15.0                0.0210      0.014      1.548      0.122      -0.006       0.047\n",
      "municipalityid_16.0               -0.0024      0.008     -0.295      0.768      -0.018       0.013\n",
      "municipalityid_17.0               -0.0030      0.006     -0.512      0.609      -0.015       0.009\n",
      "municipalityid_18.0                0.0054      0.007      0.719      0.472      -0.009       0.020\n",
      "municipalityid_19.0                0.0025      0.004      0.630      0.529      -0.005       0.010\n",
      "municipalityid_2.0                -0.0064      0.006     -1.155      0.248      -0.017       0.004\n",
      "municipalityid_20.0                0.0047      0.005      1.016      0.310      -0.004       0.014\n",
      "municipalityid_21.0               -0.0132      0.011     -1.221      0.222      -0.034       0.008\n",
      "municipalityid_22.0                0.0168      0.012      1.400      0.162      -0.007       0.040\n",
      "municipalityid_23.0                0.0163      0.019      0.839      0.402      -0.022       0.054\n",
      "municipalityid_24.0                0.0062      0.008      0.797      0.425      -0.009       0.021\n",
      "municipalityid_25.0               -0.0002      0.005     -0.037      0.971      -0.010       0.010\n",
      "municipalityid_26.0               -0.0005      0.009     -0.051      0.960      -0.018       0.017\n",
      "municipalityid_27.0               -0.0006      0.008     -0.071      0.944      -0.016       0.015\n",
      "municipalityid_28.0               -0.0987      0.037     -2.632      0.008      -0.172      -0.025\n",
      "municipalityid_29.0                0.0179      0.029      0.608      0.543      -0.040       0.076\n",
      "municipalityid_3.0                 0.0261      0.015      1.720      0.085      -0.004       0.056\n",
      "municipalityid_30.0               -0.0081      0.010     -0.817      0.414      -0.028       0.011\n",
      "municipalityid_31.0                0.0088      0.015      0.579      0.563      -0.021       0.038\n",
      "municipalityid_38.0                0.0145      0.027      0.535      0.592      -0.039       0.068\n",
      "municipalityid_39.0               -0.0248      0.039     -0.635      0.525      -0.101       0.052\n",
      "municipalityid_4.0                -0.0014      0.005     -0.254      0.799      -0.012       0.009\n",
      "municipalityid_5.0                 0.0072      0.011      0.684      0.494      -0.013       0.028\n",
      "municipalityid_6.0                -0.0054      0.010     -0.513      0.608      -0.026       0.015\n",
      "municipalityid_7.0                -0.0135      0.010     -1.361      0.174      -0.033       0.006\n",
      "municipalityid_8.0                -0.0029      0.011     -0.274      0.784      -0.024       0.018\n",
      "municipalityid_9.0                 0.0021      0.008      0.249      0.804      -0.014       0.018\n",
      "municipalityid_nan                -0.0090      0.021     -0.428      0.669      -0.050       0.032\n",
      "ethnicity_Non-Serbian majority     0.0195      0.053      0.371      0.711      -0.083       0.122\n",
      "ethnicity_Serbian majority        -0.0096      0.047     -0.203      0.839      -0.103       0.083\n",
      "==============================================================================\n",
      "Omnibus:                    17049.994   Durbin-Watson:                   1.978\n",
      "Prob(Omnibus):                  0.000   Jarque-Bera (JB):           382002.107\n",
      "Skew:                           4.016   Prob(JB):                         0.00\n",
      "Kurtosis:                      22.507   Cond. No.                     1.04e+16\n",
      "==============================================================================\n",
      "\n",
      "Warnings:\n",
      "[1] Standard Errors assume that the covariance matrix of the errors is correctly specified.\n",
      "[2] The condition number is large, 1.04e+16. This might indicate that there are\n",
      "strong multicollinearity or other numerical problems.\n"
     ]
    }
   ],
   "source": [
    "# Fit and summarize OLS model\n",
    "mod = sm.OLS(y_tr, X_tr)\n",
    "res = mod.fit()\n",
    "print(res.summary())"
   ]
  },
  {
   "cell_type": "code",
   "execution_count": null,
   "metadata": {},
   "outputs": [],
   "source": []
  },
  {
   "cell_type": "code",
   "execution_count": 36,
   "metadata": {},
   "outputs": [
    {
     "name": "stdout",
     "output_type": "stream",
     "text": [
      "R2 OLS: 0.171\n"
     ]
    }
   ],
   "source": [
    "r2 = r2_score(y_te, res.predict(X_te))\n",
    "print(f'R2 OLS: {round(r2,3)}')"
   ]
  },
  {
   "cell_type": "code",
   "execution_count": 37,
   "metadata": {},
   "outputs": [
    {
     "data": {
      "text/plain": [
       "num_loans                      0.000\n",
       "num_loans_squared              0.000\n",
       "lag1_num_loans                 0.000\n",
       "lag1_num_loans_squared         0.000\n",
       "turnover_r                     0.000\n",
       "lag2_num_loans                 0.000\n",
       "turnover_r_squared             0.000\n",
       "imports_amount_r               0.000\n",
       "lag3_num_loans_squared         0.000\n",
       "number_loans_up2015            0.000\n",
       "firms_age                      0.000\n",
       "employees                      0.000\n",
       "firms_age_squared              0.001\n",
       "number_loans_up2015_squared    0.001\n",
       "exports_amount_r               0.001\n",
       "lag2_num_loans_squared         0.002\n",
       "import_tx_squared              0.003\n",
       "import_tx                      0.003\n",
       "employees_squared              0.005\n",
       "lag4_productivity_r_squared    0.008\n",
       "municipalityid_28.0            0.008\n",
       "lag3_num_loans                 0.010\n",
       "lag1_import_tx                 0.010\n",
       "lag1_import_tx_squared         0.010\n",
       "lag4_turnover_r                0.014\n",
       "municipalityid_13.0            0.015\n",
       "lag5_employees_squared         0.020\n",
       "lag4_productivity_r            0.022\n",
       "lag4_turnover_r_squared        0.049\n",
       "dtype: float64"
      ]
     },
     "execution_count": 37,
     "metadata": {},
     "output_type": "execute_result"
    }
   ],
   "source": [
    "res.pvalues[res.pvalues <=0.05].sort_values().round(3)"
   ]
  },
  {
   "cell_type": "code",
   "execution_count": 38,
   "metadata": {},
   "outputs": [
    {
     "data": {
      "text/plain": [
       "['num_loans',\n",
       " 'num_loans_squared',\n",
       " 'lag1_num_loans',\n",
       " 'lag1_num_loans_squared',\n",
       " 'turnover_r',\n",
       " 'lag2_num_loans',\n",
       " 'turnover_r_squared',\n",
       " 'imports_amount_r',\n",
       " 'lag3_num_loans_squared',\n",
       " 'number_loans_up2015',\n",
       " 'firms_age',\n",
       " 'employees',\n",
       " 'firms_age_squared',\n",
       " 'number_loans_up2015_squared',\n",
       " 'exports_amount_r',\n",
       " 'lag2_num_loans_squared',\n",
       " 'import_tx_squared',\n",
       " 'import_tx',\n",
       " 'employees_squared',\n",
       " 'lag4_productivity_r_squared',\n",
       " 'municipalityid_28.0',\n",
       " 'lag3_num_loans',\n",
       " 'lag1_import_tx',\n",
       " 'lag1_import_tx_squared',\n",
       " 'lag4_turnover_r',\n",
       " 'municipalityid_13.0',\n",
       " 'lag5_employees_squared',\n",
       " 'lag4_productivity_r',\n",
       " 'lag4_turnover_r_squared']"
      ]
     },
     "execution_count": 38,
     "metadata": {},
     "output_type": "execute_result"
    }
   ],
   "source": [
    "res.pvalues[res.pvalues <=0.05].sort_values().round(3).index.tolist()"
   ]
  },
  {
   "cell_type": "markdown",
   "metadata": {},
   "source": [
    "# Lasso OLS:"
   ]
  },
  {
   "cell_type": "code",
   "execution_count": 39,
   "metadata": {},
   "outputs": [
    {
     "name": "stdout",
     "output_type": "stream",
     "text": [
      "CPU times: user 3min 17s, sys: 12.9 s, total: 3min 30s\n",
      "Wall time: 1min 50s\n"
     ]
    }
   ],
   "source": [
    "%%time\n",
    "\n",
    "alphas = np.geomspace(0.15, 0.00001, 1000)\n",
    "reg = linear_model.LassoCV(cv=10, \n",
    "                           alphas=alphas, \n",
    "                           n_alphas=1000, \n",
    "                           random_state=4, \n",
    "                           verbose=False, \n",
    "                           max_iter=10000).fit(X_tr, y_tr)"
   ]
  },
  {
   "cell_type": "code",
   "execution_count": 40,
   "metadata": {},
   "outputs": [
    {
     "name": "stdout",
     "output_type": "stream",
     "text": [
      "0.00045225932073011976\n"
     ]
    },
    {
     "data": {
      "text/plain": [
       "0.16697625287418816"
      ]
     },
     "execution_count": 40,
     "metadata": {},
     "output_type": "execute_result"
    }
   ],
   "source": [
    "print(reg.alpha_)\n",
    "reg.score(X_te, y_te)"
   ]
  },
  {
   "cell_type": "code",
   "execution_count": 41,
   "metadata": {},
   "outputs": [
    {
     "data": {
      "text/plain": [
       "0.16851004906527345"
      ]
     },
     "execution_count": 41,
     "metadata": {},
     "output_type": "execute_result"
    }
   ],
   "source": [
    "reg.score(X_tr, y_tr)"
   ]
  },
  {
   "cell_type": "code",
   "execution_count": 42,
   "metadata": {},
   "outputs": [],
   "source": [
    "## refit:\n",
    "lassocv_alpha = reg.alpha_\n",
    "#clf = linear_model.Lasso(alpha=lassocv_alpha) # selected alpha = 0.0006449\n",
    "#clf.fit(X, y)\n",
    "#clf.score(X, y)\n",
    "#r2_score(y, clf.predict(X))\n"
   ]
  },
  {
   "cell_type": "code",
   "execution_count": 43,
   "metadata": {},
   "outputs": [],
   "source": [
    "# Fit and summarize OLS model\n",
    "mod = sm.OLS(y_tr, X_tr)\n",
    "reg_2 = mod.fit_regularized(#method='sqrt_lasso', \n",
    "                          alpha=lassocv_alpha, \n",
    "                          L1_wt=1, \n",
    "                          refit=True)\n",
    "\n",
    "#reg.summary()"
   ]
  },
  {
   "cell_type": "code",
   "execution_count": 44,
   "metadata": {},
   "outputs": [
    {
     "data": {
      "text/plain": [
       "0.16866289270088342"
      ]
     },
     "execution_count": 44,
     "metadata": {},
     "output_type": "execute_result"
    }
   ],
   "source": [
    "r2_score(y_te, reg_2.predict(X_te))"
   ]
  },
  {
   "cell_type": "markdown",
   "metadata": {},
   "source": [
    "## refit ols with reduced model"
   ]
  },
  {
   "cell_type": "code",
   "execution_count": 45,
   "metadata": {
    "scrolled": true
   },
   "outputs": [
    {
     "name": "stdout",
     "output_type": "stream",
     "text": [
      "                                 OLS Regression Results                                \n",
      "=======================================================================================\n",
      "Dep. Variable:          y_vs_no_loans   R-squared (uncentered):                   0.196\n",
      "Model:                            OLS   Adj. R-squared (uncentered):              0.195\n",
      "Method:                 Least Squares   F-statistic:                              135.9\n",
      "Date:                Tue, 21 Jun 2022   Prob (F-statistic):                        0.00\n",
      "Time:                        22:21:19   Log-Likelihood:                          7105.2\n",
      "No. Observations:               20600   AIC:                                 -1.414e+04\n",
      "Df Residuals:                   20563   BIC:                                 -1.384e+04\n",
      "Df Model:                          37                                                  \n",
      "Covariance Type:            nonrobust                                                  \n",
      "===============================================================================================\n",
      "                                  coef    std err          t      P>|t|      [0.025      0.975]\n",
      "-----------------------------------------------------------------------------------------------\n",
      "firms_age                      -0.0044      0.001     -3.721      0.000      -0.007      -0.002\n",
      "firms_age_squared               0.0003   8.95e-05      3.427      0.001       0.000       0.000\n",
      "productivity_r               5.381e-07   9.69e-08      5.555      0.000    3.48e-07    7.28e-07\n",
      "lag1_productivity_r          2.757e-07    1.1e-07      2.505      0.012       6e-08    4.91e-07\n",
      "lag2_productivity_r          2.248e-08   1.04e-07      0.216      0.829   -1.81e-07    2.26e-07\n",
      "lag5_productivity_r         -2.753e-07   1.26e-07     -2.190      0.029   -5.22e-07   -2.89e-08\n",
      "wages_worker_r               6.675e-06   2.05e-06      3.252      0.001    2.65e-06    1.07e-05\n",
      "lag1_wages_worker_r          -4.42e-06   2.46e-06     -1.799      0.072   -9.24e-06    3.95e-07\n",
      "lag3_wages_worker_r          1.363e-06   2.48e-06      0.550      0.582    -3.5e-06    6.22e-06\n",
      "lag5_wages_worker_r         -3.258e-07   2.55e-06     -0.128      0.898   -5.33e-06    4.68e-06\n",
      "num_loans                       0.1033      0.003     35.614      0.000       0.098       0.109\n",
      "lag1_num_loans                  0.0465      0.003     14.433      0.000       0.040       0.053\n",
      "lag2_num_loans                  0.0148      0.004      4.112      0.000       0.008       0.022\n",
      "num_loans_squared              -0.0037      0.000    -16.126      0.000      -0.004      -0.003\n",
      "lag1_num_loans_squared         -0.0029      0.000     -6.587      0.000      -0.004      -0.002\n",
      "lag3_num_loans_squared         -0.0056      0.002     -3.334      0.001      -0.009      -0.002\n",
      "exports_amount_r             3.293e-06   1.06e-06      3.103      0.002    1.21e-06    5.37e-06\n",
      "lag1_import_tx                 -0.0173      0.006     -3.017      0.003      -0.029      -0.006\n",
      "import_tx_squared               0.0243      0.005      4.884      0.000       0.015       0.034\n",
      "lag4_import_tx_squared         -0.0076      0.006     -1.330      0.184      -0.019       0.004\n",
      "lag4_size_squared              -0.0048      0.004     -1.278      0.201      -0.012       0.003\n",
      "lag5_size_squared              -0.0015      0.004     -0.385      0.700      -0.009       0.006\n",
      "turnover_r                    8.53e-08   2.16e-08      3.941      0.000    4.29e-08    1.28e-07\n",
      "lag4_turnover_r              6.974e-08   2.51e-08      2.774      0.006    2.05e-08    1.19e-07\n",
      "lag5_turnover_r             -3.295e-08   2.85e-08     -1.155      0.248   -8.89e-08     2.3e-08\n",
      "employees                       0.0110      0.002      4.782      0.000       0.006       0.015\n",
      "lag1_employees                 -0.0027      0.002     -1.234      0.217      -0.007       0.002\n",
      "employees_squared              -0.0006      0.000     -3.394      0.001      -0.001      -0.000\n",
      "lag1_employees_squared          0.0003      0.000      1.436      0.151   -9.88e-05       0.001\n",
      "lag2_employees_squared         -0.0002      0.000     -1.595      0.111      -0.000    3.73e-05\n",
      "lag3_employees_squared      -7.824e-05   8.88e-05     -0.881      0.378      -0.000    9.58e-05\n",
      "lag5_employees_squared         -0.0001   9.35e-05     -1.554      0.120      -0.000     3.8e-05\n",
      "number_loans_up2015            -0.0113      0.004     -2.864      0.004      -0.019      -0.004\n",
      "number_loans_up2015_squared     0.0038      0.001      3.072      0.002       0.001       0.006\n",
      "legalformid_nan                -0.0643      0.009     -7.477      0.000      -0.081      -0.047\n",
      "sectionid_12.0                  0.0062      0.004      1.601      0.109      -0.001       0.014\n",
      "sectionid_16.0                 -0.0202      0.006     -3.539      0.000      -0.031      -0.009\n",
      "==============================================================================\n",
      "Omnibus:                    17150.687   Durbin-Watson:                   1.977\n",
      "Prob(Omnibus):                  0.000   Jarque-Bera (JB):           387559.041\n",
      "Skew:                           4.050   Prob(JB):                         0.00\n",
      "Kurtosis:                      22.645   Cond. No.                     7.41e+05\n",
      "==============================================================================\n",
      "\n",
      "Warnings:\n",
      "[1] Standard Errors assume that the covariance matrix of the errors is correctly specified.\n",
      "[2] The condition number is large, 7.41e+05. This might indicate that there are\n",
      "strong multicollinearity or other numerical problems.\n"
     ]
    }
   ],
   "source": [
    "reduced_vars = X_tr.columns[reg_2.params != 0].tolist()\n",
    "# Fit and summarize OLS model\n",
    "mod = sm.OLS(y_tr, X_tr[reduced_vars])\n",
    "reg_refit = mod.fit()\n",
    "print(reg_refit.summary())"
   ]
  },
  {
   "cell_type": "code",
   "execution_count": 46,
   "metadata": {},
   "outputs": [
    {
     "data": {
      "text/plain": [
       "0.16866289270088342"
      ]
     },
     "execution_count": 46,
     "metadata": {},
     "output_type": "execute_result"
    }
   ],
   "source": [
    "r2_score(y_te, reg_refit.predict(X_te[reduced_vars]))"
   ]
  },
  {
   "cell_type": "code",
   "execution_count": 47,
   "metadata": {
    "scrolled": true
   },
   "outputs": [
    {
     "data": {
      "text/plain": [
       "num_loans                      0.000\n",
       "num_loans_squared              0.000\n",
       "lag1_num_loans                 0.000\n",
       "legalformid_nan                0.000\n",
       "lag1_num_loans_squared         0.000\n",
       "productivity_r                 0.000\n",
       "import_tx_squared              0.000\n",
       "employees                      0.000\n",
       "lag2_num_loans                 0.000\n",
       "turnover_r                     0.000\n",
       "firms_age                      0.000\n",
       "sectionid_16.0                 0.000\n",
       "firms_age_squared              0.001\n",
       "employees_squared              0.001\n",
       "lag3_num_loans_squared         0.001\n",
       "wages_worker_r                 0.001\n",
       "exports_amount_r               0.002\n",
       "number_loans_up2015_squared    0.002\n",
       "lag1_import_tx                 0.003\n",
       "number_loans_up2015            0.004\n",
       "lag4_turnover_r                0.006\n",
       "lag1_productivity_r            0.012\n",
       "lag5_productivity_r            0.029\n",
       "dtype: float64"
      ]
     },
     "execution_count": 47,
     "metadata": {},
     "output_type": "execute_result"
    }
   ],
   "source": [
    "reg_refit.pvalues[reg_refit.pvalues <=0.05].sort_values().round(3)"
   ]
  },
  {
   "cell_type": "code",
   "execution_count": 48,
   "metadata": {},
   "outputs": [
    {
     "data": {
      "text/plain": [
       "23"
      ]
     },
     "execution_count": 48,
     "metadata": {},
     "output_type": "execute_result"
    }
   ],
   "source": [
    "len(reg_refit.pvalues[reg_refit.pvalues <=0.05].sort_values())"
   ]
  },
  {
   "cell_type": "markdown",
   "metadata": {},
   "source": [
    "# Ridge"
   ]
  },
  {
   "cell_type": "code",
   "execution_count": 49,
   "metadata": {},
   "outputs": [
    {
     "data": {
      "text/plain": [
       "'y_vs_no_loans'"
      ]
     },
     "execution_count": 49,
     "metadata": {},
     "output_type": "execute_result"
    }
   ],
   "source": [
    "comp_group"
   ]
  },
  {
   "cell_type": "code",
   "execution_count": 50,
   "metadata": {},
   "outputs": [
    {
     "name": "stdout",
     "output_type": "stream",
     "text": [
      "R-squared: 0.169\n",
      "CPU times: user 2min 41s, sys: 22.3 s, total: 3min 4s\n",
      "Wall time: 1min 5s\n"
     ]
    },
    {
     "data": {
      "text/plain": [
       "413.20124001153346"
      ]
     },
     "execution_count": 50,
     "metadata": {},
     "output_type": "execute_result"
    }
   ],
   "source": [
    "%%time\n",
    "if comp_group == 'y_vs_no_loans':\n",
    "    alphas = np.geomspace(1000, 10, 100)\n",
    "else:\n",
    "    alphas = np.geomspace(10000, 100, 100)\n",
    "ridge = linear_model.RidgeCV(cv=10, alphas=alphas).fit(X_tr, y_tr)\n",
    "\n",
    "r2 = ridge.score(X_te, y_te)\n",
    "print(f'R-squared: {round(r2, 3)}')\n",
    "\n",
    "ridge.alpha_"
   ]
  },
  {
   "cell_type": "code",
   "execution_count": 51,
   "metadata": {},
   "outputs": [
    {
     "data": {
      "text/plain": [
       "0.17073988707730414"
      ]
     },
     "execution_count": 51,
     "metadata": {},
     "output_type": "execute_result"
    }
   ],
   "source": [
    "r2_score(y_tr, ridge.predict(X_tr))"
   ]
  },
  {
   "cell_type": "code",
   "execution_count": 52,
   "metadata": {},
   "outputs": [
    {
     "data": {
      "text/plain": [
       "0.17073988707730414"
      ]
     },
     "execution_count": 52,
     "metadata": {},
     "output_type": "execute_result"
    }
   ],
   "source": [
    "ridge.score(X_tr, y_tr)"
   ]
  },
  {
   "cell_type": "code",
   "execution_count": 53,
   "metadata": {},
   "outputs": [
    {
     "data": {
      "text/plain": [
       "0.16926718059017531"
      ]
     },
     "execution_count": 53,
     "metadata": {},
     "output_type": "execute_result"
    }
   ],
   "source": [
    "r2_score(y_te, ridge.predict(X_te))"
   ]
  },
  {
   "cell_type": "code",
   "execution_count": 54,
   "metadata": {},
   "outputs": [],
   "source": [
    "## Fit and summarize OLS model\n",
    "#mod = sm.OLS(y_tr, sm.add_constant(X_tr))\n",
    "mod = sm.OLS(y_tr, X_tr)\n",
    "ridge_sklearn_refit = mod.fit_regularized(alpha=reg.alpha_, L1_wt=0, refit=True, intercept=54)"
   ]
  },
  {
   "cell_type": "code",
   "execution_count": 55,
   "metadata": {},
   "outputs": [
    {
     "data": {
      "text/plain": [
       "0.17171657535251095"
      ]
     },
     "execution_count": 55,
     "metadata": {},
     "output_type": "execute_result"
    }
   ],
   "source": [
    "r2_score(y_te, ridge_sklearn_refit.predict(X_te))"
   ]
  },
  {
   "cell_type": "markdown",
   "metadata": {},
   "source": [
    "## Refit OLS with reduced vars"
   ]
  },
  {
   "cell_type": "code",
   "execution_count": 56,
   "metadata": {},
   "outputs": [
    {
     "data": {
      "text/html": [
       "<div>\n",
       "<style scoped>\n",
       "    .dataframe tbody tr th:only-of-type {\n",
       "        vertical-align: middle;\n",
       "    }\n",
       "\n",
       "    .dataframe tbody tr th {\n",
       "        vertical-align: top;\n",
       "    }\n",
       "\n",
       "    .dataframe thead th {\n",
       "        text-align: right;\n",
       "    }\n",
       "</style>\n",
       "<table border=\"1\" class=\"dataframe\">\n",
       "  <thead>\n",
       "    <tr style=\"text-align: right;\">\n",
       "      <th></th>\n",
       "      <th>coefficient</th>\n",
       "    </tr>\n",
       "    <tr>\n",
       "      <th>variable</th>\n",
       "      <th></th>\n",
       "    </tr>\n",
       "  </thead>\n",
       "  <tbody>\n",
       "    <tr>\n",
       "      <th>firms_age</th>\n",
       "      <td>-5.131655e-03</td>\n",
       "    </tr>\n",
       "    <tr>\n",
       "      <th>firms_age_squared</th>\n",
       "      <td>3.428573e-04</td>\n",
       "    </tr>\n",
       "    <tr>\n",
       "      <th>productivity_r</th>\n",
       "      <td>4.451172e-07</td>\n",
       "    </tr>\n",
       "    <tr>\n",
       "      <th>lag1_productivity_r</th>\n",
       "      <td>5.655107e-08</td>\n",
       "    </tr>\n",
       "    <tr>\n",
       "      <th>lag2_productivity_r</th>\n",
       "      <td>-1.530841e-07</td>\n",
       "    </tr>\n",
       "    <tr>\n",
       "      <th>lag3_productivity_r</th>\n",
       "      <td>-8.324129e-08</td>\n",
       "    </tr>\n",
       "    <tr>\n",
       "      <th>lag4_productivity_r</th>\n",
       "      <td>-7.346497e-07</td>\n",
       "    </tr>\n",
       "    <tr>\n",
       "      <th>lag5_productivity_r</th>\n",
       "      <td>1.146057e-07</td>\n",
       "    </tr>\n",
       "    <tr>\n",
       "      <th>productivity_r_squared</th>\n",
       "      <td>-8.744124e-13</td>\n",
       "    </tr>\n",
       "    <tr>\n",
       "      <th>lag1_productivity_r_squared</th>\n",
       "      <td>2.213200e-12</td>\n",
       "    </tr>\n",
       "    <tr>\n",
       "      <th>lag2_productivity_r_squared</th>\n",
       "      <td>1.639752e-12</td>\n",
       "    </tr>\n",
       "    <tr>\n",
       "      <th>lag3_productivity_r_squared</th>\n",
       "      <td>1.789951e-12</td>\n",
       "    </tr>\n",
       "    <tr>\n",
       "      <th>lag4_productivity_r_squared</th>\n",
       "      <td>6.701009e-12</td>\n",
       "    </tr>\n",
       "    <tr>\n",
       "      <th>lag5_productivity_r_squared</th>\n",
       "      <td>-4.627174e-12</td>\n",
       "    </tr>\n",
       "    <tr>\n",
       "      <th>wages_worker_r</th>\n",
       "      <td>3.953368e-06</td>\n",
       "    </tr>\n",
       "    <tr>\n",
       "      <th>lag1_wages_worker_r</th>\n",
       "      <td>1.121192e-05</td>\n",
       "    </tr>\n",
       "    <tr>\n",
       "      <th>lag2_wages_worker_r</th>\n",
       "      <td>7.784431e-07</td>\n",
       "    </tr>\n",
       "    <tr>\n",
       "      <th>lag3_wages_worker_r</th>\n",
       "      <td>7.147794e-06</td>\n",
       "    </tr>\n",
       "    <tr>\n",
       "      <th>lag4_wages_worker_r</th>\n",
       "      <td>-1.471361e-05</td>\n",
       "    </tr>\n",
       "    <tr>\n",
       "      <th>lag5_wages_worker_r</th>\n",
       "      <td>6.761876e-06</td>\n",
       "    </tr>\n",
       "    <tr>\n",
       "      <th>wages_worker_r_squared</th>\n",
       "      <td>4.815920e-10</td>\n",
       "    </tr>\n",
       "    <tr>\n",
       "      <th>lag1_wages_worker_r_squared</th>\n",
       "      <td>-2.782725e-09</td>\n",
       "    </tr>\n",
       "    <tr>\n",
       "      <th>lag2_wages_worker_r_squared</th>\n",
       "      <td>-9.999573e-10</td>\n",
       "    </tr>\n",
       "    <tr>\n",
       "      <th>lag3_wages_worker_r_squared</th>\n",
       "      <td>-9.865204e-10</td>\n",
       "    </tr>\n",
       "    <tr>\n",
       "      <th>lag4_wages_worker_r_squared</th>\n",
       "      <td>3.350850e-09</td>\n",
       "    </tr>\n",
       "    <tr>\n",
       "      <th>lag5_wages_worker_r_squared</th>\n",
       "      <td>-1.832594e-09</td>\n",
       "    </tr>\n",
       "    <tr>\n",
       "      <th>num_loans</th>\n",
       "      <td>9.192162e-02</td>\n",
       "    </tr>\n",
       "    <tr>\n",
       "      <th>lag1_num_loans</th>\n",
       "      <td>4.232845e-02</td>\n",
       "    </tr>\n",
       "    <tr>\n",
       "      <th>lag2_num_loans</th>\n",
       "      <td>1.821875e-02</td>\n",
       "    </tr>\n",
       "    <tr>\n",
       "      <th>lag3_num_loans</th>\n",
       "      <td>8.136358e-03</td>\n",
       "    </tr>\n",
       "    <tr>\n",
       "      <th>lag4_num_loans</th>\n",
       "      <td>4.405437e-03</td>\n",
       "    </tr>\n",
       "    <tr>\n",
       "      <th>lag5_num_loans</th>\n",
       "      <td>-1.251268e-03</td>\n",
       "    </tr>\n",
       "    <tr>\n",
       "      <th>num_loans_squared</th>\n",
       "      <td>-2.964005e-03</td>\n",
       "    </tr>\n",
       "    <tr>\n",
       "      <th>lag1_num_loans_squared</th>\n",
       "      <td>-2.372404e-03</td>\n",
       "    </tr>\n",
       "    <tr>\n",
       "      <th>lag2_num_loans_squared</th>\n",
       "      <td>-2.561504e-03</td>\n",
       "    </tr>\n",
       "    <tr>\n",
       "      <th>lag3_num_loans_squared</th>\n",
       "      <td>-7.879415e-03</td>\n",
       "    </tr>\n",
       "    <tr>\n",
       "      <th>lag4_num_loans_squared</th>\n",
       "      <td>-2.607051e-03</td>\n",
       "    </tr>\n",
       "    <tr>\n",
       "      <th>lag5_num_loans_squared</th>\n",
       "      <td>-2.332001e-03</td>\n",
       "    </tr>\n",
       "    <tr>\n",
       "      <th>exports_amount_r</th>\n",
       "      <td>3.814758e-06</td>\n",
       "    </tr>\n",
       "    <tr>\n",
       "      <th>imports_amount_r</th>\n",
       "      <td>1.034884e-07</td>\n",
       "    </tr>\n",
       "    <tr>\n",
       "      <th>import_tx</th>\n",
       "      <td>6.093810e-03</td>\n",
       "    </tr>\n",
       "    <tr>\n",
       "      <th>lag1_import_tx</th>\n",
       "      <td>-6.060416e-03</td>\n",
       "    </tr>\n",
       "    <tr>\n",
       "      <th>lag2_import_tx</th>\n",
       "      <td>8.812804e-04</td>\n",
       "    </tr>\n",
       "    <tr>\n",
       "      <th>lag3_import_tx</th>\n",
       "      <td>-1.984915e-03</td>\n",
       "    </tr>\n",
       "    <tr>\n",
       "      <th>lag4_import_tx</th>\n",
       "      <td>-5.179888e-03</td>\n",
       "    </tr>\n",
       "    <tr>\n",
       "      <th>lag5_import_tx</th>\n",
       "      <td>0.000000e+00</td>\n",
       "    </tr>\n",
       "    <tr>\n",
       "      <th>import_tx_squared</th>\n",
       "      <td>6.093810e-03</td>\n",
       "    </tr>\n",
       "    <tr>\n",
       "      <th>lag1_import_tx_squared</th>\n",
       "      <td>-6.060416e-03</td>\n",
       "    </tr>\n",
       "    <tr>\n",
       "      <th>lag2_import_tx_squared</th>\n",
       "      <td>8.812804e-04</td>\n",
       "    </tr>\n",
       "    <tr>\n",
       "      <th>lag3_import_tx_squared</th>\n",
       "      <td>-1.984915e-03</td>\n",
       "    </tr>\n",
       "    <tr>\n",
       "      <th>lag4_import_tx_squared</th>\n",
       "      <td>-5.179888e-03</td>\n",
       "    </tr>\n",
       "    <tr>\n",
       "      <th>lag5_import_tx_squared</th>\n",
       "      <td>0.000000e+00</td>\n",
       "    </tr>\n",
       "    <tr>\n",
       "      <th>export_tx</th>\n",
       "      <td>-4.896431e-03</td>\n",
       "    </tr>\n",
       "    <tr>\n",
       "      <th>lag1_export_tx</th>\n",
       "      <td>-4.402426e-03</td>\n",
       "    </tr>\n",
       "    <tr>\n",
       "      <th>lag2_export_tx</th>\n",
       "      <td>1.708024e-03</td>\n",
       "    </tr>\n",
       "    <tr>\n",
       "      <th>lag3_export_tx</th>\n",
       "      <td>-1.768810e-04</td>\n",
       "    </tr>\n",
       "    <tr>\n",
       "      <th>lag4_export_tx</th>\n",
       "      <td>-1.474900e-04</td>\n",
       "    </tr>\n",
       "    <tr>\n",
       "      <th>lag5_export_tx</th>\n",
       "      <td>0.000000e+00</td>\n",
       "    </tr>\n",
       "    <tr>\n",
       "      <th>export_tx_squared</th>\n",
       "      <td>-4.896431e-03</td>\n",
       "    </tr>\n",
       "    <tr>\n",
       "      <th>lag1_export_tx_squared</th>\n",
       "      <td>-4.402426e-03</td>\n",
       "    </tr>\n",
       "    <tr>\n",
       "      <th>lag2_export_tx_squared</th>\n",
       "      <td>1.708024e-03</td>\n",
       "    </tr>\n",
       "    <tr>\n",
       "      <th>lag3_export_tx_squared</th>\n",
       "      <td>-1.768810e-04</td>\n",
       "    </tr>\n",
       "    <tr>\n",
       "      <th>lag4_export_tx_squared</th>\n",
       "      <td>-1.474900e-04</td>\n",
       "    </tr>\n",
       "    <tr>\n",
       "      <th>lag5_export_tx_squared</th>\n",
       "      <td>0.000000e+00</td>\n",
       "    </tr>\n",
       "    <tr>\n",
       "      <th>size</th>\n",
       "      <td>8.221276e-05</td>\n",
       "    </tr>\n",
       "    <tr>\n",
       "      <th>lag1_size</th>\n",
       "      <td>-1.567269e-03</td>\n",
       "    </tr>\n",
       "    <tr>\n",
       "      <th>lag2_size</th>\n",
       "      <td>-2.395132e-04</td>\n",
       "    </tr>\n",
       "    <tr>\n",
       "      <th>lag3_size</th>\n",
       "      <td>-1.525763e-03</td>\n",
       "    </tr>\n",
       "    <tr>\n",
       "      <th>lag4_size</th>\n",
       "      <td>-3.232467e-03</td>\n",
       "    </tr>\n",
       "    <tr>\n",
       "      <th>lag5_size</th>\n",
       "      <td>-2.345631e-04</td>\n",
       "    </tr>\n",
       "    <tr>\n",
       "      <th>size_squared</th>\n",
       "      <td>3.276280e-03</td>\n",
       "    </tr>\n",
       "    <tr>\n",
       "      <th>lag1_size_squared</th>\n",
       "      <td>-3.453675e-03</td>\n",
       "    </tr>\n",
       "    <tr>\n",
       "      <th>lag2_size_squared</th>\n",
       "      <td>1.922781e-04</td>\n",
       "    </tr>\n",
       "    <tr>\n",
       "      <th>lag3_size_squared</th>\n",
       "      <td>3.696194e-03</td>\n",
       "    </tr>\n",
       "    <tr>\n",
       "      <th>lag4_size_squared</th>\n",
       "      <td>-4.527780e-03</td>\n",
       "    </tr>\n",
       "    <tr>\n",
       "      <th>lag5_size_squared</th>\n",
       "      <td>-7.135275e-04</td>\n",
       "    </tr>\n",
       "    <tr>\n",
       "      <th>turnover_r</th>\n",
       "      <td>3.813297e-07</td>\n",
       "    </tr>\n",
       "    <tr>\n",
       "      <th>lag1_turnover_r</th>\n",
       "      <td>-3.510315e-08</td>\n",
       "    </tr>\n",
       "    <tr>\n",
       "      <th>lag2_turnover_r</th>\n",
       "      <td>5.280740e-08</td>\n",
       "    </tr>\n",
       "    <tr>\n",
       "      <th>lag3_turnover_r</th>\n",
       "      <td>-2.771726e-08</td>\n",
       "    </tr>\n",
       "    <tr>\n",
       "      <th>lag4_turnover_r</th>\n",
       "      <td>1.959056e-07</td>\n",
       "    </tr>\n",
       "    <tr>\n",
       "      <th>lag5_turnover_r</th>\n",
       "      <td>3.894275e-08</td>\n",
       "    </tr>\n",
       "    <tr>\n",
       "      <th>turnover_r_squared</th>\n",
       "      <td>-6.297505e-13</td>\n",
       "    </tr>\n",
       "    <tr>\n",
       "      <th>lag1_turnover_r_squared</th>\n",
       "      <td>1.033855e-13</td>\n",
       "    </tr>\n",
       "    <tr>\n",
       "      <th>lag2_turnover_r_squared</th>\n",
       "      <td>-1.834018e-13</td>\n",
       "    </tr>\n",
       "    <tr>\n",
       "      <th>lag3_turnover_r_squared</th>\n",
       "      <td>9.899960e-14</td>\n",
       "    </tr>\n",
       "    <tr>\n",
       "      <th>lag4_turnover_r_squared</th>\n",
       "      <td>-2.698053e-13</td>\n",
       "    </tr>\n",
       "    <tr>\n",
       "      <th>lag5_turnover_r_squared</th>\n",
       "      <td>-1.479395e-13</td>\n",
       "    </tr>\n",
       "    <tr>\n",
       "      <th>employees</th>\n",
       "      <td>9.086229e-03</td>\n",
       "    </tr>\n",
       "    <tr>\n",
       "      <th>lag1_employees</th>\n",
       "      <td>-3.161682e-03</td>\n",
       "    </tr>\n",
       "    <tr>\n",
       "      <th>lag2_employees</th>\n",
       "      <td>-3.627154e-04</td>\n",
       "    </tr>\n",
       "    <tr>\n",
       "      <th>lag3_employees</th>\n",
       "      <td>4.758676e-03</td>\n",
       "    </tr>\n",
       "    <tr>\n",
       "      <th>lag4_employees</th>\n",
       "      <td>-3.153278e-03</td>\n",
       "    </tr>\n",
       "    <tr>\n",
       "      <th>lag5_employees</th>\n",
       "      <td>4.437464e-03</td>\n",
       "    </tr>\n",
       "    <tr>\n",
       "      <th>employees_squared</th>\n",
       "      <td>-5.814579e-04</td>\n",
       "    </tr>\n",
       "    <tr>\n",
       "      <th>lag1_employees_squared</th>\n",
       "      <td>3.386378e-04</td>\n",
       "    </tr>\n",
       "    <tr>\n",
       "      <th>lag2_employees_squared</th>\n",
       "      <td>-1.095409e-04</td>\n",
       "    </tr>\n",
       "    <tr>\n",
       "      <th>lag3_employees_squared</th>\n",
       "      <td>-4.197646e-04</td>\n",
       "    </tr>\n",
       "    <tr>\n",
       "      <th>lag4_employees_squared</th>\n",
       "      <td>1.797866e-04</td>\n",
       "    </tr>\n",
       "    <tr>\n",
       "      <th>lag5_employees_squared</th>\n",
       "      <td>-4.629527e-04</td>\n",
       "    </tr>\n",
       "    <tr>\n",
       "      <th>number_loans_up2015</th>\n",
       "      <td>-7.075377e-03</td>\n",
       "    </tr>\n",
       "    <tr>\n",
       "      <th>number_loans_up2015_squared</th>\n",
       "      <td>3.358770e-03</td>\n",
       "    </tr>\n",
       "    <tr>\n",
       "      <th>legalformid_1.0</th>\n",
       "      <td>3.920288e-03</td>\n",
       "    </tr>\n",
       "    <tr>\n",
       "      <th>legalformid_10.0</th>\n",
       "      <td>1.406036e-04</td>\n",
       "    </tr>\n",
       "    <tr>\n",
       "      <th>legalformid_2.0</th>\n",
       "      <td>3.411963e-03</td>\n",
       "    </tr>\n",
       "    <tr>\n",
       "      <th>legalformid_3.0</th>\n",
       "      <td>-1.644725e-04</td>\n",
       "    </tr>\n",
       "    <tr>\n",
       "      <th>legalformid_4.0</th>\n",
       "      <td>5.747788e-03</td>\n",
       "    </tr>\n",
       "    <tr>\n",
       "      <th>legalformid_5.0</th>\n",
       "      <td>5.114529e-04</td>\n",
       "    </tr>\n",
       "    <tr>\n",
       "      <th>legalformid_6.0</th>\n",
       "      <td>-2.975261e-03</td>\n",
       "    </tr>\n",
       "    <tr>\n",
       "      <th>legalformid_7.0</th>\n",
       "      <td>-1.777297e-04</td>\n",
       "    </tr>\n",
       "    <tr>\n",
       "      <th>legalformid_8.0</th>\n",
       "      <td>2.411018e-05</td>\n",
       "    </tr>\n",
       "    <tr>\n",
       "      <th>legalformid_9.0</th>\n",
       "      <td>-5.081796e-04</td>\n",
       "    </tr>\n",
       "    <tr>\n",
       "      <th>legalformid_nan</th>\n",
       "      <td>-9.930564e-03</td>\n",
       "    </tr>\n",
       "    <tr>\n",
       "      <th>sectionid_1.0</th>\n",
       "      <td>-2.894298e-03</td>\n",
       "    </tr>\n",
       "    <tr>\n",
       "      <th>sectionid_10.0</th>\n",
       "      <td>4.956357e-03</td>\n",
       "    </tr>\n",
       "    <tr>\n",
       "      <th>sectionid_11.0</th>\n",
       "      <td>3.039696e-04</td>\n",
       "    </tr>\n",
       "    <tr>\n",
       "      <th>sectionid_12.0</th>\n",
       "      <td>8.945733e-03</td>\n",
       "    </tr>\n",
       "    <tr>\n",
       "      <th>sectionid_13.0</th>\n",
       "      <td>4.068699e-04</td>\n",
       "    </tr>\n",
       "    <tr>\n",
       "      <th>sectionid_15.0</th>\n",
       "      <td>2.409709e-03</td>\n",
       "    </tr>\n",
       "    <tr>\n",
       "      <th>sectionid_16.0</th>\n",
       "      <td>-1.103266e-02</td>\n",
       "    </tr>\n",
       "    <tr>\n",
       "      <th>sectionid_17.0</th>\n",
       "      <td>2.779910e-03</td>\n",
       "    </tr>\n",
       "    <tr>\n",
       "      <th>sectionid_18.0</th>\n",
       "      <td>-7.374845e-04</td>\n",
       "    </tr>\n",
       "    <tr>\n",
       "      <th>sectionid_19.0</th>\n",
       "      <td>6.256506e-03</td>\n",
       "    </tr>\n",
       "    <tr>\n",
       "      <th>sectionid_20.0</th>\n",
       "      <td>2.948386e-03</td>\n",
       "    </tr>\n",
       "    <tr>\n",
       "      <th>sectionid_21.0</th>\n",
       "      <td>7.353361e-03</td>\n",
       "    </tr>\n",
       "    <tr>\n",
       "      <th>sectionid_3.0</th>\n",
       "      <td>-2.598869e-03</td>\n",
       "    </tr>\n",
       "    <tr>\n",
       "      <th>sectionid_4.0</th>\n",
       "      <td>2.227444e-03</td>\n",
       "    </tr>\n",
       "    <tr>\n",
       "      <th>sectionid_5.0</th>\n",
       "      <td>-2.400357e-03</td>\n",
       "    </tr>\n",
       "    <tr>\n",
       "      <th>sectionid_6.0</th>\n",
       "      <td>-2.035910e-03</td>\n",
       "    </tr>\n",
       "    <tr>\n",
       "      <th>sectionid_7.0</th>\n",
       "      <td>-3.912251e-03</td>\n",
       "    </tr>\n",
       "    <tr>\n",
       "      <th>sectionid_8.0</th>\n",
       "      <td>-5.828601e-04</td>\n",
       "    </tr>\n",
       "    <tr>\n",
       "      <th>sectionid_9.0</th>\n",
       "      <td>-2.462995e-03</td>\n",
       "    </tr>\n",
       "    <tr>\n",
       "      <th>sectionid_nan</th>\n",
       "      <td>-9.930564e-03</td>\n",
       "    </tr>\n",
       "    <tr>\n",
       "      <th>municipalityid_1.0</th>\n",
       "      <td>-3.220794e-03</td>\n",
       "    </tr>\n",
       "    <tr>\n",
       "      <th>municipalityid_10.0</th>\n",
       "      <td>-3.529461e-03</td>\n",
       "    </tr>\n",
       "    <tr>\n",
       "      <th>municipalityid_11.0</th>\n",
       "      <td>4.831056e-03</td>\n",
       "    </tr>\n",
       "    <tr>\n",
       "      <th>municipalityid_12.0</th>\n",
       "      <td>-2.617382e-03</td>\n",
       "    </tr>\n",
       "    <tr>\n",
       "      <th>municipalityid_13.0</th>\n",
       "      <td>1.058893e-02</td>\n",
       "    </tr>\n",
       "    <tr>\n",
       "      <th>municipalityid_14.0</th>\n",
       "      <td>9.695504e-04</td>\n",
       "    </tr>\n",
       "    <tr>\n",
       "      <th>municipalityid_15.0</th>\n",
       "      <td>6.056948e-03</td>\n",
       "    </tr>\n",
       "    <tr>\n",
       "      <th>municipalityid_16.0</th>\n",
       "      <td>-1.450603e-03</td>\n",
       "    </tr>\n",
       "    <tr>\n",
       "      <th>municipalityid_17.0</th>\n",
       "      <td>-2.024736e-03</td>\n",
       "    </tr>\n",
       "    <tr>\n",
       "      <th>municipalityid_18.0</th>\n",
       "      <td>3.412088e-03</td>\n",
       "    </tr>\n",
       "    <tr>\n",
       "      <th>municipalityid_19.0</th>\n",
       "      <td>1.681262e-03</td>\n",
       "    </tr>\n",
       "    <tr>\n",
       "      <th>municipalityid_2.0</th>\n",
       "      <td>-5.189872e-03</td>\n",
       "    </tr>\n",
       "    <tr>\n",
       "      <th>municipalityid_20.0</th>\n",
       "      <td>3.883633e-03</td>\n",
       "    </tr>\n",
       "    <tr>\n",
       "      <th>municipalityid_21.0</th>\n",
       "      <td>-4.838760e-03</td>\n",
       "    </tr>\n",
       "    <tr>\n",
       "      <th>municipalityid_22.0</th>\n",
       "      <td>5.273023e-03</td>\n",
       "    </tr>\n",
       "    <tr>\n",
       "      <th>municipalityid_23.0</th>\n",
       "      <td>-1.525751e-04</td>\n",
       "    </tr>\n",
       "    <tr>\n",
       "      <th>municipalityid_24.0</th>\n",
       "      <td>3.258458e-03</td>\n",
       "    </tr>\n",
       "    <tr>\n",
       "      <th>municipalityid_25.0</th>\n",
       "      <td>-1.707514e-04</td>\n",
       "    </tr>\n",
       "    <tr>\n",
       "      <th>municipalityid_26.0</th>\n",
       "      <td>-2.359544e-04</td>\n",
       "    </tr>\n",
       "    <tr>\n",
       "      <th>municipalityid_27.0</th>\n",
       "      <td>2.521444e-04</td>\n",
       "    </tr>\n",
       "    <tr>\n",
       "      <th>municipalityid_28.0</th>\n",
       "      <td>-4.265248e-03</td>\n",
       "    </tr>\n",
       "    <tr>\n",
       "      <th>municipalityid_29.0</th>\n",
       "      <td>2.542858e-04</td>\n",
       "    </tr>\n",
       "    <tr>\n",
       "      <th>municipalityid_3.0</th>\n",
       "      <td>4.620253e-03</td>\n",
       "    </tr>\n",
       "    <tr>\n",
       "      <th>municipalityid_30.0</th>\n",
       "      <td>-3.267835e-03</td>\n",
       "    </tr>\n",
       "    <tr>\n",
       "      <th>municipalityid_31.0</th>\n",
       "      <td>1.907976e-03</td>\n",
       "    </tr>\n",
       "    <tr>\n",
       "      <th>municipalityid_38.0</th>\n",
       "      <td>1.238785e-03</td>\n",
       "    </tr>\n",
       "    <tr>\n",
       "      <th>municipalityid_39.0</th>\n",
       "      <td>-1.003893e-03</td>\n",
       "    </tr>\n",
       "    <tr>\n",
       "      <th>municipalityid_4.0</th>\n",
       "      <td>-8.800679e-04</td>\n",
       "    </tr>\n",
       "    <tr>\n",
       "      <th>municipalityid_5.0</th>\n",
       "      <td>2.680482e-03</td>\n",
       "    </tr>\n",
       "    <tr>\n",
       "      <th>municipalityid_6.0</th>\n",
       "      <td>-2.097058e-03</td>\n",
       "    </tr>\n",
       "    <tr>\n",
       "      <th>municipalityid_7.0</th>\n",
       "      <td>-5.954400e-03</td>\n",
       "    </tr>\n",
       "    <tr>\n",
       "      <th>municipalityid_8.0</th>\n",
       "      <td>-1.395563e-03</td>\n",
       "    </tr>\n",
       "    <tr>\n",
       "      <th>municipalityid_9.0</th>\n",
       "      <td>1.316640e-03</td>\n",
       "    </tr>\n",
       "    <tr>\n",
       "      <th>municipalityid_nan</th>\n",
       "      <td>-9.930564e-03</td>\n",
       "    </tr>\n",
       "    <tr>\n",
       "      <th>ethnicity_Non-Serbian majority</th>\n",
       "      <td>1.112168e-02</td>\n",
       "    </tr>\n",
       "    <tr>\n",
       "      <th>ethnicity_Serbian majority</th>\n",
       "      <td>-1.191115e-03</td>\n",
       "    </tr>\n",
       "  </tbody>\n",
       "</table>\n",
       "</div>"
      ],
      "text/plain": [
       "                                 coefficient\n",
       "variable                                    \n",
       "firms_age                      -5.131655e-03\n",
       "firms_age_squared               3.428573e-04\n",
       "productivity_r                  4.451172e-07\n",
       "lag1_productivity_r             5.655107e-08\n",
       "lag2_productivity_r            -1.530841e-07\n",
       "lag3_productivity_r            -8.324129e-08\n",
       "lag4_productivity_r            -7.346497e-07\n",
       "lag5_productivity_r             1.146057e-07\n",
       "productivity_r_squared         -8.744124e-13\n",
       "lag1_productivity_r_squared     2.213200e-12\n",
       "lag2_productivity_r_squared     1.639752e-12\n",
       "lag3_productivity_r_squared     1.789951e-12\n",
       "lag4_productivity_r_squared     6.701009e-12\n",
       "lag5_productivity_r_squared    -4.627174e-12\n",
       "wages_worker_r                  3.953368e-06\n",
       "lag1_wages_worker_r             1.121192e-05\n",
       "lag2_wages_worker_r             7.784431e-07\n",
       "lag3_wages_worker_r             7.147794e-06\n",
       "lag4_wages_worker_r            -1.471361e-05\n",
       "lag5_wages_worker_r             6.761876e-06\n",
       "wages_worker_r_squared          4.815920e-10\n",
       "lag1_wages_worker_r_squared    -2.782725e-09\n",
       "lag2_wages_worker_r_squared    -9.999573e-10\n",
       "lag3_wages_worker_r_squared    -9.865204e-10\n",
       "lag4_wages_worker_r_squared     3.350850e-09\n",
       "lag5_wages_worker_r_squared    -1.832594e-09\n",
       "num_loans                       9.192162e-02\n",
       "lag1_num_loans                  4.232845e-02\n",
       "lag2_num_loans                  1.821875e-02\n",
       "lag3_num_loans                  8.136358e-03\n",
       "lag4_num_loans                  4.405437e-03\n",
       "lag5_num_loans                 -1.251268e-03\n",
       "num_loans_squared              -2.964005e-03\n",
       "lag1_num_loans_squared         -2.372404e-03\n",
       "lag2_num_loans_squared         -2.561504e-03\n",
       "lag3_num_loans_squared         -7.879415e-03\n",
       "lag4_num_loans_squared         -2.607051e-03\n",
       "lag5_num_loans_squared         -2.332001e-03\n",
       "exports_amount_r                3.814758e-06\n",
       "imports_amount_r                1.034884e-07\n",
       "import_tx                       6.093810e-03\n",
       "lag1_import_tx                 -6.060416e-03\n",
       "lag2_import_tx                  8.812804e-04\n",
       "lag3_import_tx                 -1.984915e-03\n",
       "lag4_import_tx                 -5.179888e-03\n",
       "lag5_import_tx                  0.000000e+00\n",
       "import_tx_squared               6.093810e-03\n",
       "lag1_import_tx_squared         -6.060416e-03\n",
       "lag2_import_tx_squared          8.812804e-04\n",
       "lag3_import_tx_squared         -1.984915e-03\n",
       "lag4_import_tx_squared         -5.179888e-03\n",
       "lag5_import_tx_squared          0.000000e+00\n",
       "export_tx                      -4.896431e-03\n",
       "lag1_export_tx                 -4.402426e-03\n",
       "lag2_export_tx                  1.708024e-03\n",
       "lag3_export_tx                 -1.768810e-04\n",
       "lag4_export_tx                 -1.474900e-04\n",
       "lag5_export_tx                  0.000000e+00\n",
       "export_tx_squared              -4.896431e-03\n",
       "lag1_export_tx_squared         -4.402426e-03\n",
       "lag2_export_tx_squared          1.708024e-03\n",
       "lag3_export_tx_squared         -1.768810e-04\n",
       "lag4_export_tx_squared         -1.474900e-04\n",
       "lag5_export_tx_squared          0.000000e+00\n",
       "size                            8.221276e-05\n",
       "lag1_size                      -1.567269e-03\n",
       "lag2_size                      -2.395132e-04\n",
       "lag3_size                      -1.525763e-03\n",
       "lag4_size                      -3.232467e-03\n",
       "lag5_size                      -2.345631e-04\n",
       "size_squared                    3.276280e-03\n",
       "lag1_size_squared              -3.453675e-03\n",
       "lag2_size_squared               1.922781e-04\n",
       "lag3_size_squared               3.696194e-03\n",
       "lag4_size_squared              -4.527780e-03\n",
       "lag5_size_squared              -7.135275e-04\n",
       "turnover_r                      3.813297e-07\n",
       "lag1_turnover_r                -3.510315e-08\n",
       "lag2_turnover_r                 5.280740e-08\n",
       "lag3_turnover_r                -2.771726e-08\n",
       "lag4_turnover_r                 1.959056e-07\n",
       "lag5_turnover_r                 3.894275e-08\n",
       "turnover_r_squared             -6.297505e-13\n",
       "lag1_turnover_r_squared         1.033855e-13\n",
       "lag2_turnover_r_squared        -1.834018e-13\n",
       "lag3_turnover_r_squared         9.899960e-14\n",
       "lag4_turnover_r_squared        -2.698053e-13\n",
       "lag5_turnover_r_squared        -1.479395e-13\n",
       "employees                       9.086229e-03\n",
       "lag1_employees                 -3.161682e-03\n",
       "lag2_employees                 -3.627154e-04\n",
       "lag3_employees                  4.758676e-03\n",
       "lag4_employees                 -3.153278e-03\n",
       "lag5_employees                  4.437464e-03\n",
       "employees_squared              -5.814579e-04\n",
       "lag1_employees_squared          3.386378e-04\n",
       "lag2_employees_squared         -1.095409e-04\n",
       "lag3_employees_squared         -4.197646e-04\n",
       "lag4_employees_squared          1.797866e-04\n",
       "lag5_employees_squared         -4.629527e-04\n",
       "number_loans_up2015            -7.075377e-03\n",
       "number_loans_up2015_squared     3.358770e-03\n",
       "legalformid_1.0                 3.920288e-03\n",
       "legalformid_10.0                1.406036e-04\n",
       "legalformid_2.0                 3.411963e-03\n",
       "legalformid_3.0                -1.644725e-04\n",
       "legalformid_4.0                 5.747788e-03\n",
       "legalformid_5.0                 5.114529e-04\n",
       "legalformid_6.0                -2.975261e-03\n",
       "legalformid_7.0                -1.777297e-04\n",
       "legalformid_8.0                 2.411018e-05\n",
       "legalformid_9.0                -5.081796e-04\n",
       "legalformid_nan                -9.930564e-03\n",
       "sectionid_1.0                  -2.894298e-03\n",
       "sectionid_10.0                  4.956357e-03\n",
       "sectionid_11.0                  3.039696e-04\n",
       "sectionid_12.0                  8.945733e-03\n",
       "sectionid_13.0                  4.068699e-04\n",
       "sectionid_15.0                  2.409709e-03\n",
       "sectionid_16.0                 -1.103266e-02\n",
       "sectionid_17.0                  2.779910e-03\n",
       "sectionid_18.0                 -7.374845e-04\n",
       "sectionid_19.0                  6.256506e-03\n",
       "sectionid_20.0                  2.948386e-03\n",
       "sectionid_21.0                  7.353361e-03\n",
       "sectionid_3.0                  -2.598869e-03\n",
       "sectionid_4.0                   2.227444e-03\n",
       "sectionid_5.0                  -2.400357e-03\n",
       "sectionid_6.0                  -2.035910e-03\n",
       "sectionid_7.0                  -3.912251e-03\n",
       "sectionid_8.0                  -5.828601e-04\n",
       "sectionid_9.0                  -2.462995e-03\n",
       "sectionid_nan                  -9.930564e-03\n",
       "municipalityid_1.0             -3.220794e-03\n",
       "municipalityid_10.0            -3.529461e-03\n",
       "municipalityid_11.0             4.831056e-03\n",
       "municipalityid_12.0            -2.617382e-03\n",
       "municipalityid_13.0             1.058893e-02\n",
       "municipalityid_14.0             9.695504e-04\n",
       "municipalityid_15.0             6.056948e-03\n",
       "municipalityid_16.0            -1.450603e-03\n",
       "municipalityid_17.0            -2.024736e-03\n",
       "municipalityid_18.0             3.412088e-03\n",
       "municipalityid_19.0             1.681262e-03\n",
       "municipalityid_2.0             -5.189872e-03\n",
       "municipalityid_20.0             3.883633e-03\n",
       "municipalityid_21.0            -4.838760e-03\n",
       "municipalityid_22.0             5.273023e-03\n",
       "municipalityid_23.0            -1.525751e-04\n",
       "municipalityid_24.0             3.258458e-03\n",
       "municipalityid_25.0            -1.707514e-04\n",
       "municipalityid_26.0            -2.359544e-04\n",
       "municipalityid_27.0             2.521444e-04\n",
       "municipalityid_28.0            -4.265248e-03\n",
       "municipalityid_29.0             2.542858e-04\n",
       "municipalityid_3.0              4.620253e-03\n",
       "municipalityid_30.0            -3.267835e-03\n",
       "municipalityid_31.0             1.907976e-03\n",
       "municipalityid_38.0             1.238785e-03\n",
       "municipalityid_39.0            -1.003893e-03\n",
       "municipalityid_4.0             -8.800679e-04\n",
       "municipalityid_5.0              2.680482e-03\n",
       "municipalityid_6.0             -2.097058e-03\n",
       "municipalityid_7.0             -5.954400e-03\n",
       "municipalityid_8.0             -1.395563e-03\n",
       "municipalityid_9.0              1.316640e-03\n",
       "municipalityid_nan             -9.930564e-03\n",
       "ethnicity_Non-Serbian majority  1.112168e-02\n",
       "ethnicity_Serbian majority     -1.191115e-03"
      ]
     },
     "execution_count": 56,
     "metadata": {},
     "output_type": "execute_result"
    }
   ],
   "source": [
    "coefficients = pd.DataFrame()\n",
    "coefficients['variable'] = X_tr.columns\n",
    "coefficients['coefficient'] = ridge.coef_\n",
    "coefficients = coefficients.set_index('variable')\n",
    "coefficients\n",
    "##coefficients = coefficients[coefficients.coefficient!=0]"
   ]
  },
  {
   "cell_type": "code",
   "execution_count": 57,
   "metadata": {},
   "outputs": [
    {
     "name": "stdout",
     "output_type": "stream",
     "text": [
      "                            OLS Regression Results                            \n",
      "==============================================================================\n",
      "Dep. Variable:          y_vs_no_loans   R-squared:                       0.173\n",
      "Model:                            OLS   Adj. R-squared:                  0.167\n",
      "Method:                 Least Squares   F-statistic:                     28.93\n",
      "Date:                Tue, 21 Jun 2022   Prob (F-statistic):               0.00\n",
      "Time:                        22:22:28   Log-Likelihood:                 7194.0\n",
      "No. Observations:               20600   AIC:                        -1.409e+04\n",
      "Df Residuals:                   20451   BIC:                        -1.291e+04\n",
      "Df Model:                         148                                         \n",
      "Covariance Type:            nonrobust                                         \n",
      "==================================================================================================\n",
      "                                     coef    std err          t      P>|t|      [0.025      0.975]\n",
      "--------------------------------------------------------------------------------------------------\n",
      "firms_age                         -0.0049      0.001     -3.740      0.000      -0.007      -0.002\n",
      "firms_age_squared                  0.0003   9.51e-05      3.413      0.001       0.000       0.001\n",
      "productivity_r                  4.018e-07   2.66e-07      1.512      0.131   -1.19e-07    9.23e-07\n",
      "lag1_productivity_r             2.282e-08   3.13e-07      0.073      0.942   -5.91e-07    6.36e-07\n",
      "lag2_productivity_r            -1.469e-07   3.24e-07     -0.454      0.650   -7.82e-07    4.88e-07\n",
      "lag3_productivity_r            -8.719e-08   3.29e-07     -0.265      0.791   -7.33e-07    5.58e-07\n",
      "lag4_productivity_r            -7.753e-07   3.37e-07     -2.297      0.022   -1.44e-06   -1.14e-07\n",
      "lag5_productivity_r             1.069e-07   3.66e-07      0.292      0.770   -6.11e-07    8.24e-07\n",
      "productivity_r_squared         -5.668e-13   2.26e-12     -0.250      0.802      -5e-12    3.87e-12\n",
      "lag1_productivity_r_squared     2.449e-12   2.62e-12      0.935      0.350   -2.68e-12    7.58e-12\n",
      "lag2_productivity_r_squared     1.606e-12   2.69e-12      0.597      0.551   -3.67e-12    6.88e-12\n",
      "lag3_productivity_r_squared     1.804e-12   2.73e-12      0.662      0.508   -3.54e-12    7.15e-12\n",
      "lag4_productivity_r_squared     7.213e-12   2.72e-12      2.653      0.008    1.88e-12    1.25e-11\n",
      "lag5_productivity_r_squared    -4.383e-12   3.17e-12     -1.385      0.166   -1.06e-11    1.82e-12\n",
      "wages_worker_r                  4.173e-06   5.98e-06      0.697      0.486   -7.56e-06    1.59e-05\n",
      "lag1_wages_worker_r             1.017e-05   7.91e-06      1.286      0.198   -5.33e-06    2.57e-05\n",
      "lag2_wages_worker_r              8.92e-07   8.96e-06      0.100      0.921   -1.67e-05    1.84e-05\n",
      "lag3_wages_worker_r             7.249e-06   8.58e-06      0.845      0.398   -9.57e-06    2.41e-05\n",
      "lag4_wages_worker_r            -1.542e-05   9.38e-06     -1.643      0.100   -3.38e-05    2.97e-06\n",
      "lag5_wages_worker_r             7.379e-06   8.82e-06      0.837      0.403   -9.91e-06    2.47e-05\n",
      "wages_worker_r_squared          4.069e-10    1.2e-09      0.339      0.735   -1.95e-09    2.76e-09\n",
      "lag1_wages_worker_r_squared    -2.545e-09    1.5e-09     -1.693      0.091   -5.49e-09    4.02e-10\n",
      "lag2_wages_worker_r_squared    -1.105e-09   1.67e-09     -0.662      0.508   -4.37e-09    2.16e-09\n",
      "lag3_wages_worker_r_squared    -9.812e-10   1.61e-09     -0.608      0.543   -4.15e-09    2.18e-09\n",
      "lag4_wages_worker_r_squared     3.428e-09   1.75e-09      1.959      0.050   -1.13e-12    6.86e-09\n",
      "lag5_wages_worker_r_squared     -1.93e-09   1.64e-09     -1.174      0.241   -5.15e-09    1.29e-09\n",
      "num_loans                          0.1042      0.003     35.442      0.000       0.098       0.110\n",
      "lag1_num_loans                     0.0484      0.003     14.793      0.000       0.042       0.055\n",
      "lag2_num_loans                     0.0269      0.005      5.124      0.000       0.017       0.037\n",
      "lag3_num_loans                     0.0203      0.008      2.587      0.010       0.005       0.036\n",
      "lag4_num_loans                     0.0202      0.012      1.639      0.101      -0.004       0.044\n",
      "lag5_num_loans                     0.0026      0.016      0.161      0.872      -0.029       0.035\n",
      "num_loans_squared                 -0.0037      0.000    -15.817      0.000      -0.004      -0.003\n",
      "lag1_num_loans_squared            -0.0032      0.000     -7.044      0.000      -0.004      -0.002\n",
      "lag2_num_loans_squared            -0.0046      0.001     -3.136      0.002      -0.007      -0.002\n",
      "lag3_num_loans_squared            -0.0121      0.003     -3.927      0.000      -0.018      -0.006\n",
      "lag4_num_loans_squared            -0.0089      0.006     -1.487      0.137      -0.021       0.003\n",
      "lag5_num_loans_squared            -0.0042      0.008     -0.529      0.597      -0.020       0.011\n",
      "exports_amount_r                4.335e-06   1.31e-06      3.300      0.001    1.76e-06    6.91e-06\n",
      "imports_amount_r                9.772e-08   2.47e-08      3.961      0.000    4.94e-08    1.46e-07\n",
      "import_tx                          0.0080      0.003      2.976      0.003       0.003       0.013\n",
      "lag1_import_tx                    -0.0090      0.003     -2.573      0.010      -0.016      -0.002\n",
      "lag2_import_tx                     0.0024      0.004      0.594      0.553      -0.005       0.010\n",
      "lag3_import_tx                    -0.0020      0.004     -0.464      0.642      -0.010       0.006\n",
      "lag4_import_tx                    -0.0070      0.004     -1.760      0.078      -0.015       0.001\n",
      "import_tx_squared                  0.0080      0.003      2.976      0.003       0.003       0.013\n",
      "lag1_import_tx_squared            -0.0090      0.003     -2.573      0.010      -0.016      -0.002\n",
      "lag2_import_tx_squared             0.0024      0.004      0.594      0.553      -0.005       0.010\n",
      "lag3_import_tx_squared            -0.0020      0.004     -0.465      0.642      -0.010       0.006\n",
      "lag4_import_tx_squared            -0.0070      0.004     -1.760      0.078      -0.015       0.001\n",
      "export_tx                         -0.0099      0.006     -1.630      0.103      -0.022       0.002\n",
      "lag1_export_tx                    -0.0084      0.006     -1.324      0.186      -0.021       0.004\n",
      "lag2_export_tx                     0.0070      0.007      1.047      0.295      -0.006       0.020\n",
      "lag3_export_tx                    -0.0001      0.007     -0.018      0.985      -0.014       0.014\n",
      "lag4_export_tx                    -0.0014      0.007     -0.200      0.842      -0.015       0.012\n",
      "export_tx_squared                 -0.0099      0.006     -1.630      0.103      -0.022       0.002\n",
      "lag1_export_tx_squared            -0.0084      0.006     -1.324      0.186      -0.021       0.004\n",
      "lag2_export_tx_squared             0.0070      0.007      1.047      0.295      -0.006       0.020\n",
      "lag3_export_tx_squared            -0.0001      0.007     -0.018      0.985      -0.014       0.014\n",
      "lag4_export_tx_squared            -0.0014      0.007     -0.200      0.842      -0.015       0.012\n",
      "size                              -0.0174      0.071     -0.244      0.807      -0.157       0.123\n",
      "lag1_size                         -0.0042      0.085     -0.050      0.960      -0.170       0.162\n",
      "lag2_size                          0.0793      0.074      1.071      0.284      -0.066       0.225\n",
      "lag3_size                         -0.1338      0.079     -1.698      0.089      -0.288       0.021\n",
      "lag4_size                         -0.0738      0.080     -0.927      0.354      -0.230       0.082\n",
      "lag5_size                          0.0779      0.069      1.131      0.258      -0.057       0.213\n",
      "size_squared                       0.0093      0.021      0.440      0.660      -0.032       0.051\n",
      "lag1_size_squared                 -0.0039      0.025     -0.155      0.877      -0.053       0.045\n",
      "lag2_size_squared                 -0.0236      0.022     -1.077      0.281      -0.067       0.019\n",
      "lag3_size_squared                  0.0433      0.023      1.885      0.059      -0.002       0.088\n",
      "lag4_size_squared                  0.0124      0.023      0.529      0.597      -0.034       0.058\n",
      "lag5_size_squared                 -0.0215      0.019     -1.117      0.264      -0.059       0.016\n",
      "turnover_r                      3.742e-07   7.19e-08      5.204      0.000    2.33e-07    5.15e-07\n",
      "lag1_turnover_r                -3.236e-09   8.35e-08     -0.039      0.969   -1.67e-07     1.6e-07\n",
      "lag2_turnover_r                 2.687e-08   8.68e-08      0.309      0.757   -1.43e-07    1.97e-07\n",
      "lag3_turnover_r                -3.217e-08   8.91e-08     -0.361      0.718   -2.07e-07    1.43e-07\n",
      "lag4_turnover_r                 2.176e-07   8.87e-08      2.453      0.014    4.37e-08    3.91e-07\n",
      "lag5_turnover_r                 3.281e-08   8.58e-08      0.382      0.702   -1.35e-07    2.01e-07\n",
      "turnover_r_squared             -6.251e-13   1.32e-13     -4.734      0.000   -8.84e-13   -3.66e-13\n",
      "lag1_turnover_r_squared         5.844e-14   1.51e-13      0.386      0.700   -2.38e-13    3.55e-13\n",
      "lag2_turnover_r_squared        -1.478e-13   1.55e-13     -0.954      0.340   -4.51e-13    1.56e-13\n",
      "lag3_turnover_r_squared         1.152e-13   1.56e-13      0.737      0.461   -1.91e-13    4.21e-13\n",
      "lag4_turnover_r_squared        -3.038e-13   1.55e-13     -1.965      0.049   -6.07e-13   -8.18e-16\n",
      "lag5_turnover_r_squared        -1.305e-13   1.55e-13     -0.840      0.401   -4.35e-13    1.74e-13\n",
      "employees                          0.0092      0.003      3.636      0.000       0.004       0.014\n",
      "lag1_employees                    -0.0039      0.003     -1.382      0.167      -0.009       0.002\n",
      "lag2_employees                    -0.0004      0.003     -0.131      0.896      -0.007       0.006\n",
      "lag3_employees                     0.0052      0.003      1.576      0.115      -0.001       0.012\n",
      "lag4_employees                    -0.0048      0.003     -1.457      0.145      -0.011       0.002\n",
      "lag5_employees                     0.0053      0.003      1.869      0.062      -0.000       0.011\n",
      "employees_squared                 -0.0006      0.000     -2.785      0.005      -0.001      -0.000\n",
      "lag1_employees_squared             0.0004      0.000      1.654      0.098   -7.18e-05       0.001\n",
      "lag2_employees_squared            -0.0001      0.000     -0.514      0.607      -0.001       0.000\n",
      "lag3_employees_squared            -0.0004      0.000     -1.527      0.127      -0.001       0.000\n",
      "lag4_employees_squared             0.0004      0.000      1.317      0.188      -0.000       0.001\n",
      "lag5_employees_squared            -0.0006      0.000     -2.333      0.020      -0.001   -8.86e-05\n",
      "number_loans_up2015               -0.0155      0.004     -3.805      0.000      -0.023      -0.008\n",
      "number_loans_up2015_squared        0.0042      0.001      3.358      0.001       0.002       0.007\n",
      "legalformid_1.0                    0.0135      0.027      0.502      0.616      -0.039       0.066\n",
      "legalformid_10.0                   0.0264      0.097      0.273      0.785      -0.163       0.216\n",
      "legalformid_2.0                    0.0185      0.029      0.646      0.518      -0.038       0.075\n",
      "legalformid_3.0                   -0.0614      0.160     -0.383      0.702      -0.376       0.253\n",
      "legalformid_4.0                    0.0171      0.027      0.635      0.525      -0.036       0.070\n",
      "legalformid_5.0                    0.0106      0.035      0.299      0.765      -0.059       0.080\n",
      "legalformid_6.0                 2.946e-06      0.030   9.77e-05      1.000      -0.059       0.059\n",
      "legalformid_7.0                   -0.0082      0.095     -0.086      0.931      -0.195       0.178\n",
      "legalformid_8.0                    0.0215      0.161      0.134      0.894      -0.294       0.337\n",
      "legalformid_9.0                   -0.0280      0.069     -0.404      0.686      -0.164       0.108\n",
      "legalformid_nan                   -0.0090      0.021     -0.428      0.669      -0.050       0.032\n",
      "sectionid_1.0                     -0.0035      0.007     -0.477      0.634      -0.018       0.011\n",
      "sectionid_10.0                     0.0079      0.009      0.850      0.396      -0.010       0.026\n",
      "sectionid_11.0                     0.0011      0.010      0.114      0.909      -0.018       0.021\n",
      "sectionid_12.0                     0.0102      0.007      1.388      0.165      -0.004       0.025\n",
      "sectionid_13.0                     0.0034      0.020      0.168      0.867      -0.037       0.043\n",
      "sectionid_15.0                     0.0032      0.008      0.391      0.696      -0.013       0.019\n",
      "sectionid_16.0                    -0.0157      0.008     -1.896      0.058      -0.032       0.001\n",
      "sectionid_17.0                     0.0291      0.026      1.106      0.269      -0.023       0.081\n",
      "sectionid_18.0                    -0.0076      0.024     -0.319      0.750      -0.055       0.039\n",
      "sectionid_19.0                     0.0108      0.010      1.133      0.257      -0.008       0.029\n",
      "sectionid_20.0                     0.0221      0.022      1.025      0.305      -0.020       0.064\n",
      "sectionid_21.0                     0.0076      0.007      1.145      0.252      -0.005       0.021\n",
      "sectionid_3.0                     -0.0065      0.011     -0.565      0.572      -0.029       0.016\n",
      "sectionid_4.0                      0.0052      0.011      0.470      0.638      -0.016       0.027\n",
      "sectionid_5.0                     -0.0089      0.013     -0.676      0.499      -0.035       0.017\n",
      "sectionid_6.0                     -0.0035      0.008     -0.442      0.658      -0.019       0.012\n",
      "sectionid_7.0                     -0.0108      0.013     -0.828      0.408      -0.036       0.015\n",
      "sectionid_8.0                     -0.0171      0.043     -0.398      0.690      -0.101       0.067\n",
      "sectionid_9.0                     -0.0172      0.020     -0.841      0.401      -0.057       0.023\n",
      "sectionid_nan                     -0.0090      0.021     -0.428      0.669      -0.050       0.032\n",
      "municipalityid_1.0                -0.0075      0.010     -0.737      0.461      -0.027       0.012\n",
      "municipalityid_10.0               -0.0085      0.010     -0.848      0.397      -0.028       0.011\n",
      "municipalityid_11.0                0.0076      0.007      1.094      0.274      -0.006       0.021\n",
      "municipalityid_12.0               -0.0062      0.023     -0.270      0.787      -0.051       0.039\n",
      "municipalityid_13.0                0.0211      0.009      2.445      0.015       0.004       0.038\n",
      "municipalityid_14.0                0.0349      0.035      1.001      0.317      -0.033       0.103\n",
      "municipalityid_15.0                0.0210      0.014      1.548      0.122      -0.006       0.047\n",
      "municipalityid_16.0               -0.0024      0.008     -0.295      0.768      -0.018       0.013\n",
      "municipalityid_17.0               -0.0030      0.006     -0.512      0.609      -0.015       0.009\n",
      "municipalityid_18.0                0.0054      0.007      0.719      0.472      -0.009       0.020\n",
      "municipalityid_19.0                0.0025      0.004      0.630      0.529      -0.005       0.010\n",
      "municipalityid_2.0                -0.0064      0.006     -1.155      0.248      -0.017       0.004\n",
      "municipalityid_20.0                0.0047      0.005      1.016      0.310      -0.004       0.014\n",
      "municipalityid_21.0               -0.0132      0.011     -1.221      0.222      -0.034       0.008\n",
      "municipalityid_22.0                0.0168      0.012      1.400      0.162      -0.007       0.040\n",
      "municipalityid_23.0                0.0163      0.019      0.839      0.402      -0.022       0.054\n",
      "municipalityid_24.0                0.0062      0.008      0.797      0.425      -0.009       0.021\n",
      "municipalityid_25.0               -0.0002      0.005     -0.037      0.971      -0.010       0.010\n",
      "municipalityid_26.0               -0.0005      0.009     -0.051      0.960      -0.018       0.017\n",
      "municipalityid_27.0               -0.0006      0.008     -0.071      0.944      -0.016       0.015\n",
      "municipalityid_28.0               -0.0987      0.037     -2.632      0.008      -0.172      -0.025\n",
      "municipalityid_29.0                0.0179      0.029      0.608      0.543      -0.040       0.076\n",
      "municipalityid_3.0                 0.0261      0.015      1.720      0.085      -0.004       0.056\n",
      "municipalityid_30.0               -0.0081      0.010     -0.817      0.414      -0.028       0.011\n",
      "municipalityid_31.0                0.0088      0.015      0.579      0.563      -0.021       0.038\n",
      "municipalityid_38.0                0.0145      0.027      0.535      0.592      -0.039       0.068\n",
      "municipalityid_39.0               -0.0248      0.039     -0.635      0.525      -0.101       0.052\n",
      "municipalityid_4.0                -0.0014      0.005     -0.254      0.799      -0.012       0.009\n",
      "municipalityid_5.0                 0.0072      0.011      0.684      0.494      -0.013       0.028\n",
      "municipalityid_6.0                -0.0054      0.010     -0.513      0.608      -0.026       0.015\n",
      "municipalityid_7.0                -0.0135      0.010     -1.361      0.174      -0.033       0.006\n",
      "municipalityid_8.0                -0.0029      0.011     -0.274      0.784      -0.024       0.018\n",
      "municipalityid_9.0                 0.0021      0.008      0.249      0.804      -0.014       0.018\n",
      "municipalityid_nan                -0.0090      0.021     -0.428      0.669      -0.050       0.032\n",
      "ethnicity_Non-Serbian majority     0.0195      0.053      0.371      0.711      -0.083       0.122\n",
      "ethnicity_Serbian majority        -0.0096      0.047     -0.203      0.839      -0.103       0.083\n",
      "==============================================================================\n",
      "Omnibus:                    17049.983   Durbin-Watson:                   1.978\n",
      "Prob(Omnibus):                  0.000   Jarque-Bera (JB):           382001.591\n",
      "Skew:                           4.016   Prob(JB):                         0.00\n",
      "Kurtosis:                      22.507   Cond. No.                     1.04e+16\n",
      "==============================================================================\n",
      "\n",
      "Warnings:\n",
      "[1] Standard Errors assume that the covariance matrix of the errors is correctly specified.\n",
      "[2] The condition number is large, 1.04e+16. This might indicate that there are\n",
      "strong multicollinearity or other numerical problems.\n"
     ]
    }
   ],
   "source": [
    "reduced_vars = coefficients[coefficients.coefficient!=0].index.tolist()\n",
    "# Fit and summarize OLS model\n",
    "mod = sm.OLS(y_tr, X_tr[reduced_vars])\n",
    "ridge_refit = mod.fit()\n",
    "print(ridge_refit.summary())"
   ]
  },
  {
   "cell_type": "code",
   "execution_count": 58,
   "metadata": {},
   "outputs": [
    {
     "data": {
      "text/plain": [
       "0.17122859229956844"
      ]
     },
     "execution_count": 58,
     "metadata": {},
     "output_type": "execute_result"
    }
   ],
   "source": [
    "r2_score(y_te, ridge_refit.predict(X_te[reduced_vars]))"
   ]
  },
  {
   "cell_type": "code",
   "execution_count": 59,
   "metadata": {},
   "outputs": [
    {
     "data": {
      "text/plain": [
       "num_loans                      0.000\n",
       "num_loans_squared              0.000\n",
       "lag1_num_loans                 0.000\n",
       "lag1_num_loans_squared         0.000\n",
       "turnover_r                     0.000\n",
       "lag2_num_loans                 0.000\n",
       "turnover_r_squared             0.000\n",
       "imports_amount_r               0.000\n",
       "lag3_num_loans_squared         0.000\n",
       "number_loans_up2015            0.000\n",
       "firms_age                      0.000\n",
       "employees                      0.000\n",
       "firms_age_squared              0.001\n",
       "number_loans_up2015_squared    0.001\n",
       "exports_amount_r               0.001\n",
       "lag2_num_loans_squared         0.002\n",
       "import_tx                      0.003\n",
       "import_tx_squared              0.003\n",
       "employees_squared              0.005\n",
       "lag4_productivity_r_squared    0.008\n",
       "municipalityid_28.0            0.008\n",
       "lag3_num_loans                 0.010\n",
       "lag1_import_tx                 0.010\n",
       "lag1_import_tx_squared         0.010\n",
       "lag4_turnover_r                0.014\n",
       "municipalityid_13.0            0.015\n",
       "lag5_employees_squared         0.020\n",
       "lag4_productivity_r            0.022\n",
       "lag4_turnover_r_squared        0.049\n",
       "dtype: float64"
      ]
     },
     "execution_count": 59,
     "metadata": {},
     "output_type": "execute_result"
    }
   ],
   "source": [
    "ridge_refit.pvalues[ridge_refit.pvalues <=0.05].sort_values().round(3)"
   ]
  },
  {
   "cell_type": "markdown",
   "metadata": {
    "scrolled": true
   },
   "source": [
    "# Logistic regression"
   ]
  },
  {
   "cell_type": "code",
   "execution_count": 60,
   "metadata": {},
   "outputs": [],
   "source": [
    "#corr = np.corrcoef(X.T)\n",
    "#sns.heatmap(corr, xticklabels=X.columns, yticklabels=X.columns)\n",
    "#plt.show()"
   ]
  },
  {
   "cell_type": "code",
   "execution_count": 61,
   "metadata": {},
   "outputs": [],
   "source": [
    "#corr"
   ]
  },
  {
   "cell_type": "code",
   "execution_count": 62,
   "metadata": {
    "scrolled": false
   },
   "outputs": [],
   "source": [
    "#X_reduced = X.drop(columns=['municipalityid_28.0', 'municipalityid_29.0', \n",
    "#                            'municipalityid_38.0', 'municipalityid_39.0'])\n",
    "\n",
    "#logit_model = sm.Logit(y, sm.add_constant(X))\n",
    "#logit_res = logit_model.fit()\n",
    "#print(logit_res.summary())"
   ]
  },
  {
   "cell_type": "markdown",
   "metadata": {},
   "source": [
    "# Random forest"
   ]
  },
  {
   "cell_type": "code",
   "execution_count": 118,
   "metadata": {},
   "outputs": [
    {
     "data": {
      "text/plain": [
       "0.18649583884791873"
      ]
     },
     "execution_count": 118,
     "metadata": {},
     "output_type": "execute_result"
    }
   ],
   "source": [
    "rf = RandomForestRegressor(max_depth=5, random_state=0, n_estimators=20)\n",
    "rf.fit(X_tr, y_tr)\n",
    "\n",
    "rf.score(X_te, y_te)"
   ]
  },
  {
   "cell_type": "code",
   "execution_count": 119,
   "metadata": {},
   "outputs": [
    {
     "data": {
      "text/plain": [
       "0.2597884486465213"
      ]
     },
     "execution_count": 119,
     "metadata": {},
     "output_type": "execute_result"
    }
   ],
   "source": [
    "rf.score(X_tr, y_tr)"
   ]
  },
  {
   "cell_type": "code",
   "execution_count": 120,
   "metadata": {},
   "outputs": [],
   "source": [
    "#scores = cross_val_score(rf, X_te, y_te, scoring='r2', cv=10) "
   ]
  },
  {
   "cell_type": "code",
   "execution_count": 121,
   "metadata": {},
   "outputs": [],
   "source": [
    "#scores.mean()"
   ]
  },
  {
   "cell_type": "code",
   "execution_count": 122,
   "metadata": {},
   "outputs": [
    {
     "data": {
      "text/plain": [
       "0.18649583884791876"
      ]
     },
     "execution_count": 122,
     "metadata": {},
     "output_type": "execute_result"
    }
   ],
   "source": [
    "r2_score(y_te, rf.predict(X_te))"
   ]
  },
  {
   "cell_type": "code",
   "execution_count": 134,
   "metadata": {
    "scrolled": false
   },
   "outputs": [],
   "source": [
    "rf_importances = pd.Series(data=rf.feature_importances_, index=X_tr.columns)\n",
    "rf_importances = rf_importances.sort_values(ascending=False)\n",
    "#rf_importances"
   ]
  },
  {
   "cell_type": "code",
   "execution_count": 170,
   "metadata": {},
   "outputs": [
    {
     "data": {
      "image/png": "[encoded data removed]",
      "text/plain": [
       "<Figure size 1152x576 with 1 Axes>"
      ]
     },
     "metadata": {
      "needs_background": "light"
     },
     "output_type": "display_data"
    }
   ],
   "source": [
    "# feature importance:\n",
    "plt.figure(figsize=(16,8))\n",
    "nonzero = rf.feature_importances_!=0\n",
    "sns.barplot(x=rf_importances.index[:10], y=rf_importances[:10])\n",
    "plt.xticks(rotation=20, size=15)\n",
    "plt.savefig('../../data/output/graphs/variable_importances/rf_importances.pdf', bbox_inches='tight')\n",
    "plt.show()"
   ]
  },
  {
   "cell_type": "code",
   "execution_count": 138,
   "metadata": {},
   "outputs": [],
   "source": [
    "important_features = rf_importances.index[:10].tolist()"
   ]
  },
  {
   "cell_type": "code",
   "execution_count": 162,
   "metadata": {},
   "outputs": [],
   "source": [
    "signs = np.sign(res.params[important_features].round(4))\n",
    "pvalues = res.pvalues[important_features].round(2)\n",
    "signs_table = pd.DataFrame()\n",
    "signs_table['sign'] = signs\n",
    "signs_table['p-values'] = pvalues\n",
    "#signs_table = signs_table.T"
   ]
  },
  {
   "cell_type": "code",
   "execution_count": 164,
   "metadata": {},
   "outputs": [
    {
     "name": "stdout",
     "output_type": "stream",
     "text": [
      "\\begin{tabular}{lrr}\n",
      "\\toprule\n",
      "{} &  sign &  p-values \\\\\n",
      "\\midrule\n",
      "num\\_loans              &   1.0 &      0.00 \\\\\n",
      "num\\_loans\\_squared      &  -1.0 &      0.00 \\\\\n",
      "imports\\_amount\\_r       &   0.0 &      0.00 \\\\\n",
      "lag1\\_num\\_loans\\_squared &  -1.0 &      0.00 \\\\\n",
      "turnover\\_r\\_squared     &   0.0 &      0.00 \\\\\n",
      "productivity\\_r         &   0.0 &      0.13 \\\\\n",
      "turnover\\_r             &   0.0 &      0.00 \\\\\n",
      "lag1\\_num\\_loans         &   1.0 &      0.00 \\\\\n",
      "productivity\\_r\\_squared &   0.0 &      0.80 \\\\\n",
      "lag5\\_productivity\\_r    &   0.0 &      0.77 \\\\\n",
      "\\bottomrule\n",
      "\\end{tabular}\n",
      "\n"
     ]
    }
   ],
   "source": [
    "print(signs_table.to_latex())"
   ]
  },
  {
   "cell_type": "code",
   "execution_count": 101,
   "metadata": {},
   "outputs": [
    {
     "data": {
      "text/plain": [
       "0"
      ]
     },
     "execution_count": 101,
     "metadata": {},
     "output_type": "execute_result"
    }
   ],
   "source": [
    "from sklearn.tree import export_graphviz\n",
    "\n",
    "export_graphviz(rf.estimators_[0],\n",
    "                feature_names=X.columns,\n",
    "                out_file='../../data/output/graphs/variable_importances/tree.dot',\n",
    "                filled=True,\n",
    "                rounded=True)\n",
    "os.system('dot -Tpng ../../data/output/graphs/variable_importances/tree.dot -o ../../data/output/graphs/variable_importances/tree.png')\n",
    "\n",
    "\n",
    "#dotfile = open(\"D:/dtree2.dot\", 'w')\n",
    "#export_graphviz(dtree, out_file = dotfile, feature_names = X_tr.columns)\n",
    "#dotfile.close()"
   ]
  },
  {
   "cell_type": "code",
   "execution_count": 102,
   "metadata": {},
   "outputs": [
    {
     "data": {
      "text/plain": [
       "100"
      ]
     },
     "execution_count": 102,
     "metadata": {},
     "output_type": "execute_result"
    }
   ],
   "source": [
    "len(rf.estimators_)"
   ]
  },
  {
   "cell_type": "code",
   "execution_count": null,
   "metadata": {},
   "outputs": [],
   "source": []
  },
  {
   "cell_type": "markdown",
   "metadata": {},
   "source": [
    "# XGBoost"
   ]
  },
  {
   "cell_type": "code",
   "execution_count": 70,
   "metadata": {},
   "outputs": [],
   "source": [
    "import xgboost as xgb"
   ]
  },
  {
   "cell_type": "code",
   "execution_count": 71,
   "metadata": {},
   "outputs": [],
   "source": [
    "#xgbmodel = xgb.XGBRegressor()\n",
    "#xgbmodel.fit(X_tr,y_tr)\n",
    "#xgbmodel.score(X_tr, y_tr)"
   ]
  },
  {
   "cell_type": "code",
   "execution_count": 72,
   "metadata": {},
   "outputs": [],
   "source": [
    "#xgbmodel.score(X_te, y_te)"
   ]
  },
  {
   "cell_type": "code",
   "execution_count": 73,
   "metadata": {},
   "outputs": [],
   "source": [
    "#r2_score(y_te, xgbmodel.predict(X_te))"
   ]
  },
  {
   "cell_type": "code",
   "execution_count": 74,
   "metadata": {},
   "outputs": [],
   "source": [
    "#xgb.plot_importance(xgbmodel, max_num_features=15)\n",
    "#plt.show()"
   ]
  },
  {
   "cell_type": "code",
   "execution_count": 75,
   "metadata": {},
   "outputs": [],
   "source": [
    "params = {'learning_rate': [0.05, 0.1, 0.3, 0.5,], # so called `eta` value\n",
    "          'objective':['reg:squarederror'], # objective for internal optimization technique\n",
    "          'eval_metric':['rmse'], \n",
    "          #'num_leaves': [6, 7, 8, 10, 25, 31, 35, 40, 50, 100, 200],\n",
    "          'max_depth': [10, None],\n",
    "          'min_child_weight': [11],\n",
    "          #'subsample': [0.8],\n",
    "          'colsample_bytree': [0.7],\n",
    "          'n_estimators': [7, 10, 12, 15, 17, 20, 25], # number of trees \n",
    "          'missing':[-999],\n",
    "          'reg_lambda':[1.5],\n",
    "          'seed': [1337]}\n"
   ]
  },
  {
   "cell_type": "code",
   "execution_count": 76,
   "metadata": {},
   "outputs": [
    {
     "name": "stdout",
     "output_type": "stream",
     "text": [
      "Fitting 10 folds for each of 56 candidates, totalling 560 fits\n"
     ]
    },
    {
     "name": "stderr",
     "output_type": "stream",
     "text": [
      "[Parallel(n_jobs=-1)]: Using backend LokyBackend with 4 concurrent workers.\n",
      "[Parallel(n_jobs=-1)]: Done   5 tasks      | elapsed:   10.4s\n",
      "[Parallel(n_jobs=-1)]: Done  10 tasks      | elapsed:   13.7s\n",
      "[Parallel(n_jobs=-1)]: Done  17 tasks      | elapsed:   22.7s\n",
      "[Parallel(n_jobs=-1)]: Done  24 tasks      | elapsed:   29.7s\n",
      "[Parallel(n_jobs=-1)]: Done  33 tasks      | elapsed:   46.1s\n",
      "[Parallel(n_jobs=-1)]: Done  42 tasks      | elapsed:  1.0min\n",
      "[Parallel(n_jobs=-1)]: Done  53 tasks      | elapsed:  1.4min\n",
      "[Parallel(n_jobs=-1)]: Done  64 tasks      | elapsed:  1.8min\n",
      "[Parallel(n_jobs=-1)]: Done  77 tasks      | elapsed:  2.2min\n",
      "[Parallel(n_jobs=-1)]: Done  90 tasks      | elapsed:  2.4min\n",
      "[Parallel(n_jobs=-1)]: Done 105 tasks      | elapsed:  2.6min\n",
      "[Parallel(n_jobs=-1)]: Done 120 tasks      | elapsed:  2.9min\n",
      "[Parallel(n_jobs=-1)]: Done 137 tasks      | elapsed:  3.4min\n",
      "[Parallel(n_jobs=-1)]: Done 154 tasks      | elapsed:  3.7min\n",
      "[Parallel(n_jobs=-1)]: Done 173 tasks      | elapsed:  4.2min\n",
      "[Parallel(n_jobs=-1)]: Done 192 tasks      | elapsed:  4.8min\n",
      "[Parallel(n_jobs=-1)]: Done 213 tasks      | elapsed:  5.6min\n",
      "[Parallel(n_jobs=-1)]: Done 234 tasks      | elapsed:  5.8min\n",
      "[Parallel(n_jobs=-1)]: Done 257 tasks      | elapsed:  6.3min\n",
      "[Parallel(n_jobs=-1)]: Done 280 tasks      | elapsed:  6.9min\n",
      "[Parallel(n_jobs=-1)]: Done 305 tasks      | elapsed:  7.4min\n",
      "[Parallel(n_jobs=-1)]: Done 330 tasks      | elapsed:  8.1min\n",
      "[Parallel(n_jobs=-1)]: Done 357 tasks      | elapsed:  9.0min\n",
      "[Parallel(n_jobs=-1)]: Done 384 tasks      | elapsed:  9.4min\n",
      "[Parallel(n_jobs=-1)]: Done 413 tasks      | elapsed: 10.1min\n",
      "[Parallel(n_jobs=-1)]: Done 442 tasks      | elapsed: 10.7min\n",
      "[Parallel(n_jobs=-1)]: Done 473 tasks      | elapsed: 11.7min\n",
      "[Parallel(n_jobs=-1)]: Done 504 tasks      | elapsed: 12.5min\n",
      "[Parallel(n_jobs=-1)]: Done 537 tasks      | elapsed: 13.2min\n",
      "[Parallel(n_jobs=-1)]: Done 560 out of 560 | elapsed: 13.7min finished\n"
     ]
    },
    {
     "name": "stdout",
     "output_type": "stream",
     "text": [
      "CPU times: user 7.31 s, sys: 478 ms, total: 7.78 s\n",
      "Wall time: 13min 44s\n"
     ]
    },
    {
     "data": {
      "text/plain": [
       "GridSearchCV(cv=10, error_score=nan,\n",
       "             estimator=XGBRegressor(base_score=None, booster=None,\n",
       "                                    colsample_bylevel=None,\n",
       "                                    colsample_bynode=None,\n",
       "                                    colsample_bytree=None, gamma=None,\n",
       "                                    gpu_id=None, importance_type='gain',\n",
       "                                    interaction_constraints=None,\n",
       "                                    learning_rate=None, max_delta_step=None,\n",
       "                                    max_depth=None, min_child_weight=None,\n",
       "                                    missing=nan, monotone_constraints=None,\n",
       "                                    n_estim...\n",
       "             iid='deprecated', n_jobs=-1,\n",
       "             param_grid={'colsample_bytree': [0.7], 'eval_metric': ['rmse'],\n",
       "                         'learning_rate': [0.05, 0.1, 0.3, 0.5],\n",
       "                         'max_depth': [10, None], 'min_child_weight': [11],\n",
       "                         'missing': [-999],\n",
       "                         'n_estimators': [7, 10, 12, 15, 17, 20, 25],\n",
       "                         'objective': ['reg:squarederror'], 'reg_lambda': [1.5],\n",
       "                         'seed': [1337]},\n",
       "             pre_dispatch='2*n_jobs', refit=True, return_train_score=False,\n",
       "             scoring=None, verbose=10)"
      ]
     },
     "execution_count": 76,
     "metadata": {},
     "output_type": "execute_result"
    }
   ],
   "source": [
    "%%time\n",
    "xg = xgb.XGBRegressor()\n",
    "best_xgb = GridSearchCV(\n",
    "    xg, param_grid=params, cv=10, verbose=10, n_jobs=-1)\n",
    "\n",
    "best_xgb.fit(X_tr, y_tr)"
   ]
  },
  {
   "cell_type": "code",
   "execution_count": 77,
   "metadata": {},
   "outputs": [
    {
     "data": {
      "text/plain": [
       "0.35846311521031"
      ]
     },
     "execution_count": 77,
     "metadata": {},
     "output_type": "execute_result"
    }
   ],
   "source": [
    "best_xgb.score(X_tr, y_tr)"
   ]
  },
  {
   "cell_type": "code",
   "execution_count": 78,
   "metadata": {},
   "outputs": [
    {
     "data": {
      "text/plain": [
       "0.1895762784745777"
      ]
     },
     "execution_count": 78,
     "metadata": {},
     "output_type": "execute_result"
    }
   ],
   "source": [
    "best_xgb.score(X_te, y_te)"
   ]
  },
  {
   "cell_type": "code",
   "execution_count": 79,
   "metadata": {},
   "outputs": [
    {
     "data": {
      "text/plain": [
       "{'colsample_bytree': 0.7,\n",
       " 'eval_metric': 'rmse',\n",
       " 'learning_rate': 0.3,\n",
       " 'max_depth': None,\n",
       " 'min_child_weight': 11,\n",
       " 'missing': -999,\n",
       " 'n_estimators': 12,\n",
       " 'objective': 'reg:squarederror',\n",
       " 'reg_lambda': 1.5,\n",
       " 'seed': 1337}"
      ]
     },
     "execution_count": 79,
     "metadata": {},
     "output_type": "execute_result"
    }
   ],
   "source": [
    "#best_xgb.best_estimator_\n",
    "#best_xgb.best_score_\n",
    "#best_xgb.cv_results_\n",
    "best_xgb.best_params_"
   ]
  },
  {
   "cell_type": "code",
   "execution_count": 80,
   "metadata": {},
   "outputs": [
    {
     "data": {
      "text/plain": [
       "0.1895762784745777"
      ]
     },
     "execution_count": 80,
     "metadata": {},
     "output_type": "execute_result"
    }
   ],
   "source": [
    "r2_score(y_te, best_xgb.predict(X_te))"
   ]
  },
  {
   "cell_type": "code",
   "execution_count": 81,
   "metadata": {},
   "outputs": [
    {
     "data": {
      "text/plain": [
       "0.35846311521031"
      ]
     },
     "execution_count": 81,
     "metadata": {},
     "output_type": "execute_result"
    }
   ],
   "source": [
    "xgb_best_model_refit = xgb.XGBRegressor(colsample_bytree=0.7,\n",
    "                                        eval_metric='rmse',\n",
    "                                        learning_rate=best_xgb.best_params_['learning_rate'],\n",
    "                                        max_depth=best_xgb.best_params_['max_depth'],\n",
    "                                        min_child_weight=11,\n",
    "                                        missing=-999,\n",
    "                                        n_estimators=best_xgb.best_params_['n_estimators'],\n",
    "                                        objective='reg:squarederror',\n",
    "                                        reg_lambda=1.5,\n",
    "                                        seed=1337)\n",
    "xgb_best_model_refit.fit(X_tr,y_tr)\n",
    "xgb_best_model_refit.score(X_tr, y_tr)"
   ]
  },
  {
   "cell_type": "code",
   "execution_count": 82,
   "metadata": {},
   "outputs": [
    {
     "data": {
      "text/plain": [
       "0.1895762784745777"
      ]
     },
     "execution_count": 82,
     "metadata": {},
     "output_type": "execute_result"
    }
   ],
   "source": [
    "xgb_best_model_refit.score(X_te, y_te)"
   ]
  },
  {
   "cell_type": "code",
   "execution_count": 83,
   "metadata": {},
   "outputs": [],
   "source": [
    "#xgb.plot_importance(xgb_best_model_refit, \n",
    "#                    max_num_features=15,\n",
    "#                    title='Feature Importance by weight',\n",
    "#                    importance_type='weight',\n",
    "#                   )\n",
    "#plt.show()"
   ]
  },
  {
   "cell_type": "code",
   "execution_count": 84,
   "metadata": {},
   "outputs": [],
   "source": [
    "#xgb.plot_importance(xgb_best_model_refit, \n",
    "#                    max_num_features=15,\n",
    "#                    title='Feature Importance by gain',\n",
    "#                    importance_type='gain',\n",
    "#                   )\n",
    "#plt.show()"
   ]
  },
  {
   "cell_type": "code",
   "execution_count": 85,
   "metadata": {},
   "outputs": [
    {
     "data": {
      "image/png": "[encoded data removed]",
      "text/plain": [
       "<Figure size 432x288 with 1 Axes>"
      ]
     },
     "metadata": {
      "needs_background": "light"
     },
     "output_type": "display_data"
    }
   ],
   "source": [
    "xgb.plot_importance(xgb_best_model_refit, \n",
    "                    max_num_features=15,\n",
    "                    title='Feature Importance by cover',\n",
    "                    importance_type='cover',\n",
    "                   )\n",
    "plt.show()"
   ]
  },
  {
   "cell_type": "code",
   "execution_count": 93,
   "metadata": {},
   "outputs": [
    {
     "data": {
      "image/png": "[encoded data removed]",
      "text/plain": [
       "<Figure size 1800x864 with 1 Axes>"
      ]
     },
     "metadata": {
      "needs_background": "light"
     },
     "output_type": "display_data"
    }
   ],
   "source": [
    "fig, ax = plt.subplots(figsize=(25, 12))\n",
    "xgb.plot_tree(xgb_best_model_refit, \n",
    "              ax=ax, \n",
    "              num_trees=10,\n",
    "              #rankdir='LR'\n",
    "             )\n",
    "#xgb.plot_tree(model, num_trees=4, ax=ax)\n",
    "plt.savefig(\"tree.pdf\")\n",
    "plt.show()\n"
   ]
  },
  {
   "cell_type": "code",
   "execution_count": 87,
   "metadata": {},
   "outputs": [],
   "source": [
    "#df_cond = df[df.num_loans<0.5]\n",
    "\n",
    "#df_cond.groupby('credit_treatment_status')['municipalityid_31.0'].value_counts(normalize=True)"
   ]
  }
 ],
 "metadata": {
  "kernelspec": {
   "display_name": "Python 3",
   "language": "python",
   "name": "python3"
  },
  "language_info": {
   "codemirror_mode": {
    "name": "ipython",
    "version": 3
   },
   "file_extension": ".py",
   "mimetype": "text/x-python",
   "name": "python",
   "nbconvert_exporter": "python",
   "pygments_lexer": "ipython3",
   "version": "3.7.6"
  },
  "toc": {
   "base_numbering": 1,
   "nav_menu": {},
   "number_sections": true,
   "sideBar": true,
   "skip_h1_title": false,
   "title_cell": "Table of Contents",
   "title_sidebar": "Contents",
   "toc_cell": false,
   "toc_position": {},
   "toc_section_display": true,
   "toc_window_display": false
  }
 },
 "nbformat": 4,
 "nbformat_minor": 4
}
